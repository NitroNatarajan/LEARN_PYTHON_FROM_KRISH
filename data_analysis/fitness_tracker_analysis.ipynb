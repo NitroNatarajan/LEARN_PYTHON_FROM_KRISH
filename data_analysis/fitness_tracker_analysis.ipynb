{
 "cells": [
  {
   "cell_type": "code",
   "execution_count": null,
   "metadata": {},
   "outputs": [
    {
     "name": "stdout",
     "output_type": "stream",
     "text": [
      "2000\n",
      "{'Mean': np.float64(169.392), 'Median': np.float64(169.0), 'Maximum': np.int64(197), 'Minimum': np.int64(136), 'std.dev': np.float64(9.891831781828884), 'Variance': np.float64(97.84833599999999), '25th percentile': np.float64(163.0), '50th percentile': np.float64(169.0), '75th percentile': np.float64(176.0)}\n",
      "{'Mean': np.float64(68.6415), 'Median': np.float64(69.0), 'Maximum': np.int64(118), 'Minimum': np.int64(16), 'std.dev': np.float64(15.29529266637288), 'Variance': np.float64(233.94597775000003), '25th percentile': np.float64(59.0), '50th percentile': np.float64(69.0), '75th percentile': np.float64(79.0)}\n",
      "0       26.277285\n",
      "1       27.639801\n",
      "2       23.225432\n",
      "3       29.068796\n",
      "4       21.461937\n",
      "          ...    \n",
      "1995    21.952479\n",
      "1996    21.913580\n",
      "1997    34.112353\n",
      "1998    44.221855\n",
      "1999    29.319856\n",
      "Name: BMI, Length: 2000, dtype: float64\n"
     ]
    }
   ],
   "source": [
    "import numpy as np\n",
    "import pandas as pd\n",
    "import matplotlib.pyplot as mp\n",
    "import seaborn as sns\n",
    "\n",
    "\n",
    "df = pd.read_csv(\"data_set/fitness_tracker_data.csv\")\n",
    "\n",
    "# df.shape  # to check the shape of the DataFrame\n",
    "# df.isnull().sum() # to check the null values\n",
    "# df.info # to check the information \n",
    "# df.duplicated().sum()\n",
    "# df.describe()\n",
    "# print(df[\"Gender\"].value_counts())\n",
    "# print(df[\"Location\"].value_counts())\n",
    "\n",
    "height_data = df[\"Height\"]\n",
    "weight_data = df[\"Weight\"]\n",
    "print(len(height_data))\n",
    "def stats(data):\n",
    "  return {\n",
    "          \"Mean\": np.mean(data),\n",
    "          \"Median\": np.median(data),\n",
    "          \"Maximum\":np.max(data),\n",
    "          \"Minimum\": np.min(data),\n",
    "          \"std.dev\": np.std(data),\n",
    "          \"Variance\":np.var(data),\n",
    "          \"25th percentile\": np.percentile(data , 25),\n",
    "          \"50th percentile\": np.percentile(data , 50),\n",
    "          \"75th percentile\": np.percentile(data , 75),\n",
    "          }\n",
    "\n",
    "height_stats = stats(height_data)\n",
    "weight_stats = stats(weight_data)\n",
    "\n",
    "print(height_stats)\n",
    "print(weight_stats)\n",
    "\n",
    "df[\"BMI\"] = df[\"Weight\"]/(df[\"Height\"]/100)**2\n",
    "\n",
    "print(df[\"BMI\"])\n",
    "\n",
    "# ADDING THE BMI_CATEGORY by where \n",
    "\n",
    "\n",
    "# CHARTS - BOX PLOT , HISTOGRAM , \n"
   ]
  },
  {
   "cell_type": "code",
   "execution_count": null,
   "metadata": {},
   "outputs": [
    {
     "name": "stdout",
     "output_type": "stream",
     "text": [
      "1800.9\n"
     ]
    }
   ],
   "source": [
    "\n"
   ]
  },
  {
   "cell_type": "code",
   "execution_count": 13,
   "metadata": {},
   "outputs": [
    {
     "name": "stdout",
     "output_type": "stream",
     "text": [
      "500.25\n"
     ]
    }
   ],
   "source": [
    "print(2001 * 0.25)"
   ]
  },
  {
   "cell_type": "code",
   "execution_count": null,
   "metadata": {},
   "outputs": [],
   "source": []
  }
 ],
 "metadata": {
  "kernelspec": {
   "display_name": "Python 3",
   "language": "python",
   "name": "python3"
  },
  "language_info": {
   "codemirror_mode": {
    "name": "ipython",
    "version": 3
   },
   "file_extension": ".py",
   "mimetype": "text/x-python",
   "name": "python",
   "nbconvert_exporter": "python",
   "pygments_lexer": "ipython3",
   "version": "3.12.0"
  }
 },
 "nbformat": 4,
 "nbformat_minor": 2
}
