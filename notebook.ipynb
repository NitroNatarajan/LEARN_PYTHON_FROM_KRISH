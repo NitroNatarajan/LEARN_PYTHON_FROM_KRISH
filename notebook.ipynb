{
 "cells": [
  {
   "cell_type": "markdown",
   "metadata": {},
   "source": [
    "# Python Learning through *Krish Naik* Course\n",
    "## Getting started with VS Code\n",
    "  - Git integrated \n",
    "  - CLI interaction\n",
    "  - Environment development - to manage the python packages for the python project..\n",
    "  - To create the environment we use the conda command > conda create -p venv python == 3.13.0 \n",
    "  - To activate the environment we must need to activate it by > conda activate venv/ \n",
    "  - lets work on our learning about the basic syntax and semantics\n",
    "## Python Basics - Syntax and Semantics \n",
    "  - Single and multi - line comment\n",
    "  - Definition of syntax and semantics\n",
    "  - Basic syntax rules in Python\n",
    "  - Understanding the semantics in Python\n",
    "  - Common syntax errors and How to avoid them.\n",
    "  - practical code examples \n",
    "  - Indentation - to define the block of code \n",
    "  - Line continuation\n",
    "### Comment: \n",
    "  - Comment is a notes that developers write in the code file to manifest what it really means to do for the others to understand the code easily. \n",
    "  - There are two types of comments we can use in the python. Single line comment and Multi line comment. \n",
    "  - Single line comment # Single line comment.\n",
    "  - Multi line comment '''Multiline comment'''.\n",
    "### Syntax:\n",
    "  Syntax refers to the set of rules that defines the combination of symbols that are considered to be correctly structure the programs in a language. In short, syntax is about the correct arrangement of words and symbols in a code. \n",
    "  - If we don't follow the right syntax, we will end up with errors. \n",
    "### Semantics:\n",
    "  - Semantics refers to the meaning or interpretation of the symbols, characters and commands in a language.It is about what the code is supposed to do when it runs. "
   ]
  },
  {
   "cell_type": "code",
   "execution_count": null,
   "metadata": {},
   "outputs": [
    {
     "name": "stdout",
     "output_type": "stream",
     "text": [
      "Natraj\n",
      "Natarajan\n"
     ]
    }
   ],
   "source": [
    "## Basic Syntax rules in the Python \n",
    "## Python is case sensitive  in nature. \n",
    "name = \"Natraj\"\n",
    "Name = \"Natarajan\"\n",
    "# name and Name refers the different variable \n",
    "print(name)\n",
    "print(Name)\n",
    "# So be careful and cautious about the syntax "
   ]
  },
  {
   "cell_type": "markdown",
   "metadata": {},
   "source": [
    "## Indentation:\n",
    "Indentation in python is used to define the structure and hierarchy of the code. wkt, Javascript and other lang uses the braces {} uses this to define the blocks. But in python we use the indentation for this structuring or to determine the grouping of the statements. This means that all the statements within the block are indented at the same level. \n"
   ]
  },
  {
   "cell_type": "code",
   "execution_count": null,
   "metadata": {},
   "outputs": [
    {
     "name": "stdout",
     "output_type": "stream",
     "text": [
      "Nitro's age is about:  32\n",
      "32\n"
     ]
    }
   ],
   "source": [
    "# Indentation:Python uses indentation to define the block of code. Consistent use of spaces (commonly 4) or tab is required\n",
    "age = 32\n",
    "if age > 30:\n",
    "  print(\"Nitro's age is about: \", age)\n",
    "print(age) "
   ]
  },
  {
   "cell_type": "code",
   "execution_count": null,
   "metadata": {},
   "outputs": [
    {
     "name": "stdout",
     "output_type": "stream",
     "text": [
      "Single line comment. this print statement is visible in the output. if i comment this statement, it wont be read by the interpreter.\n"
     ]
    }
   ],
   "source": [
    "# Single line comment: \n",
    "print(\"Single line comment. this print statement is visible in the output. if i comment this statement, it wont be read by the interpreter.\")\n",
    "# print(\"Nitro\") it never printed. because it is comment. "
   ]
  },
  {
   "cell_type": "code",
   "execution_count": null,
   "metadata": {},
   "outputs": [],
   "source": [
    "# Multi-line comment\n",
    "''' \n",
    "print(\"Multi line comment it is\")\n",
    "print(\"For a multiple line commenting,we can use this triple single quotes wrappping way)\n",
    "Multi line comment\n",
    "Nitro Natraj\n",
    "'''"
   ]
  },
  {
   "cell_type": "code",
   "execution_count": null,
   "metadata": {},
   "outputs": [
    {
     "name": "stdout",
     "output_type": "stream",
     "text": [
      "47\n"
     ]
    }
   ],
   "source": [
    "# Line continuation - To continue write the statement in the multiple line, \n",
    "# we can use the escape character \\ and continue the statemnt in multiple line\n",
    "sum = 12+10\\\n",
    "+25\n",
    "print(sum)\n"
   ]
  },
  {
   "cell_type": "code",
   "execution_count": 10,
   "metadata": {},
   "outputs": [
    {
     "name": "stdout",
     "output_type": "stream",
     "text": [
      "Kari Leelavathi Thanaraj\n"
     ]
    }
   ],
   "source": [
    "# Multiple statements in the single line\n",
    "bro = \"Kari\";mom=\"Leelavathi\";dad=\"Thanaraj\"\n",
    "print(bro,mom,dad)"
   ]
  },
  {
   "cell_type": "code",
   "execution_count": 13,
   "metadata": {},
   "outputs": [
    {
     "name": "stdout",
     "output_type": "stream",
     "text": [
      "Age:  18\n"
     ]
    }
   ],
   "source": [
    "# Understanding the semantics in the python \n",
    "# Variable assignment\n",
    "age = 18; # here reassign the age variable set to 18 from 32; \n",
    "print(\"Age: \", age)\n"
   ]
  },
  {
   "cell_type": "markdown",
   "metadata": {},
   "source": [
    "## Type Inference\n",
    "Type inference is a compiler's ability to automatically determine the type of a variable, function, or expression in a program. It's based on the program's structure and context. \n",
    "### How it works \n",
    "- Type inference can be done at compile time or runtime.\n",
    "- It can be used to assign types to variables, constants, and functions.\n",
    "- It can help detect type rule violations and report them during compilation."
   ]
  },
  {
   "cell_type": "code",
   "execution_count": 15,
   "metadata": {},
   "outputs": [
    {
     "name": "stdout",
     "output_type": "stream",
     "text": [
      "<class 'str'>\n",
      "<class 'int'>\n",
      "<class 'bool'>\n",
      "<class 'float'>\n"
     ]
    }
   ],
   "source": [
    "# Type inference\n",
    "print(type(name))\n",
    "print(type(age))\n",
    "print(type(True))\n",
    "print(type(4.75))"
   ]
  },
  {
   "cell_type": "markdown",
   "metadata": {},
   "source": [
    "Common Errors: \n",
    " - Syntax error \n",
    " - Name error\n",
    " - Indentation Error "
   ]
  },
  {
   "cell_type": "code",
   "execution_count": 40,
   "metadata": {},
   "outputs": [
    {
     "name": "stdout",
     "output_type": "stream",
     "text": [
      "<class 'int'>\n"
     ]
    }
   ],
   "source": [
    "# Name error example \n",
    "print(type(age))\n",
    "# a=b; -> Name Error \n"
   ]
  },
  {
   "cell_type": "code",
   "execution_count": 23,
   "metadata": {},
   "outputs": [
    {
     "name": "stdout",
     "output_type": "stream",
     "text": [
      "Name is called as Natarajan :  Block scope begins execution\n",
      "Block scope code ends\n",
      "Outer Scope code runs after the above block scope execution\n"
     ]
    }
   ],
   "source": [
    "if True:\n",
    "  print(\"Name is called as\", Name ,\": \", \"Block scope begins execution\")\n",
    "  if False:\n",
    "    print(\"False statement nested inside the if block\")\n",
    "  print(\"Block scope code ends\")\n",
    "print(\"Outer Scope code runs after the above block scope execution\")"
   ]
  },
  {
   "cell_type": "markdown",
   "metadata": {},
   "source": [
    "## Variables \n",
    "Variables are fundamental elements in the programming language used to store the data that can be referenced and manipulated in a program as per our needs. In python, variables are created when we assign the value to them, and they do not need an explicit declaration to reserve memory space. The declaration happen automatically when we assign the values to the variable. \n",
    "\n",
    "### Things we gonna see in this section: \n",
    "- Introduction to the variable\n",
    "- Declaration and Assigning variables\n",
    "- Naming conventions\n",
    "- Understanding variable types\n",
    "- Type checking and conversion \n",
    "- Dynamic typing \n",
    "- Practical examples and errors possibility while work with variable \n",
    "\n",
    "  "
   ]
  },
  {
   "cell_type": "code",
   "execution_count": 27,
   "metadata": {},
   "outputs": [
    {
     "name": "stdout",
     "output_type": "stream",
     "text": [
      "Data in the str_data:  String\n",
      "Data in the integer_data:  1\n",
      "Data in the bool_data:  True\n",
      "Data in the float_data:  4.6\n"
     ]
    }
   ],
   "source": [
    "# Variable Declaration - no need of data type specification while declaration \n",
    "num = 100;\n",
    "# num -> is a variable name is a name of the container and it contain the assigned value. \n",
    "# The value (here 100 is the value set to an variable num) get assigned to it by using the assignment operator \"=\" \n",
    "str_data = \"String\"\n",
    "integer_data = 1;\n",
    "bool_data = True;\n",
    "float_data = 4.6; \n",
    "\n",
    "# The data type of the variable gets recognized by reading the value type by the interpreter while runtime. \n",
    "# This is how we declare and assign value to the variable. \n",
    "\n",
    "# Printing the declared variable: \n",
    "# Print is the function we use to print the variable. \n",
    "print(\"Data in the str_data: \" , str_data)\n",
    "print(\"Data in the integer_data: \" , integer_data)\n",
    "print(\"Data in the bool_data: \" , bool_data)\n",
    "print(\"Data in the float_data: \" , float_data)\n",
    "\n"
   ]
  },
  {
   "cell_type": "markdown",
   "metadata": {},
   "source": [
    "### Naming convention for the variable while defining \n",
    "Rules and Best practices: \n",
    "  - No variable should start with symbols and number or symbols or reserved operator such as + - * & $, except _. It can start with the _ for separate the word if the variable contains multiple words. \n",
    "  - Variables names are descriptive in nature for the code readability.\n",
    "  - Variable names are case sensitive. "
   ]
  },
  {
   "cell_type": "code",
   "execution_count": 32,
   "metadata": {},
   "outputs": [],
   "source": [
    "# Variable valid names : \n",
    "first_name = \"Nitro\"\n",
    "_lastname = \"Natraj\"\n",
    "full_name = \"Nitro Natraj\"\n",
    "no_5 = 5;\n",
    "\n",
    "\n",
    "# Invalid variable names: \n",
    "# 2Age = 23; -> SyntaxError: invalid decimal literal\n",
    "# first-name = \"Name\" -> cannot assign to expression here. Maybe you meant '==' instead of '='?\n",
    "# $name = \"Nitro\" -> SyntaxError: invalid syntax\n"
   ]
  },
  {
   "cell_type": "code",
   "execution_count": null,
   "metadata": {},
   "outputs": [
    {
     "name": "stdout",
     "output_type": "stream",
     "text": [
      "<class 'int'>\n",
      "<class 'float'>\n",
      "<class 'str'>\n",
      "<class 'bool'>\n"
     ]
    }
   ],
   "source": [
    "# Understand Variable types:\n",
    "# Since the python is  dynamically typed, so it doesn't need an explicit variable data type declaration while variable defining. \n",
    "age =25 # during the runtime,python understand the value assigned to the variable is an integer type.\n",
    "height = 6.5; # float variable\n",
    "qualification = \"Enginner\" # string variable str \n",
    "is_he_major = True; # boolean variable it is \n",
    "\n",
    "# Type checking the variable using the type() \n",
    "# -> hence proved that the interpreter understand the type of variable by the value assigned to it.\n",
    "\n",
    "print(type(age))\n",
    "print(type(height))\n",
    "print(type(qualification))\n",
    "print(type(is_he_major))\n"
   ]
  },
  {
   "cell_type": "code",
   "execution_count": 51,
   "metadata": {},
   "outputs": [
    {
     "name": "stdout",
     "output_type": "stream",
     "text": [
      "<class 'int'>\n",
      "<class 'str'>\n",
      "<class 'float'>\n",
      "False <class 'bool'>\n"
     ]
    }
   ],
   "source": [
    "# Can we convert it into one data type to other data type? -> yes\n",
    "# Type conversion : \n",
    "age = 30;\n",
    "print(type(age));\n",
    "# so the type is : -> int \n",
    "age_str = str(age)\n",
    "print(type(age_str))\n",
    "# Now it gets converted into an string from the integer \n",
    "age_float = float(age_str)\n",
    "print(type(age_float))\n",
    "is_age = bool(\"\")\n",
    "print(is_age, type(is_age))\n",
    "# so we can convert the data type of the variable easily by passing the variable to the inbuilt function str(), int(), float(), bool(). \n",
    "# Thi is what we call it as type checking and type conversion.  \n",
    "# while converting the float to an int -> we may lose the decimal places -> so be causcios about that before conversion.\n"
   ]
  },
  {
   "cell_type": "code",
   "execution_count": null,
   "metadata": {},
   "outputs": [
    {
     "name": "stdout",
     "output_type": "stream",
     "text": [
      "10 <class 'int'>\n",
      "Hello <class 'str'>\n",
      "True <class 'bool'>\n",
      "3.3333 <class 'float'>\n"
     ]
    }
   ],
   "source": [
    "# Dynamically typed : The type of the variable gets changed to one to another data type without any error as we need. \n",
    "var = 10 # int variable \n",
    "print(var, type(var)) #  initially it is int variable.\n",
    "# Python allow the type of the variable to change as per the program goes. \n",
    "var = \"Hello\"\n",
    "print(var, type(var))\n",
    "\n",
    "var = True; \n",
    "print (var , type(var))\n",
    "\n",
    "var = 3.3333\n",
    "print(var, type(var))\n",
    "\n",
    "# So the variable type gets change as we insist to happen while we need that to happen "
   ]
  },
  {
   "cell_type": "code",
   "execution_count": null,
   "metadata": {},
   "outputs": [
    {
     "name": "stdout",
     "output_type": "stream",
     "text": [
      "75 <class 'str'>\n",
      "75 <class 'int'>\n",
      "Your are already enjoying the retired lfe, Happy Days ):- \n"
     ]
    }
   ],
   "source": [
    "# Input -> this is the function to get the input from the user through the input function\n",
    "user_input = input(\"What is your age?\")\n",
    "print(user_input, type(user_input))\n",
    "# we can able to change the data type of the user_input for our manipulation and processing the user_input data\n",
    "user_age = int(user_input)\n",
    "print(user_age, type(user_age))\n",
    "\n",
    "# By converting it into an integer, we can able to process it further like add something to user_age\n",
    "if user_age < 70:\n",
    "  print(\"Your are gonna retire in next \", 70-user_age , \"Years\")\n",
    "else:\n",
    "  print(\"Your are already enjoying the retired lfe, Happy Days ):- \")\n",
    "\n",
    "# In general, the input function return the values of user input in the string data format in default. \n",
    "# So we must have to handle it as per our need before we process it. "
   ]
  },
  {
   "cell_type": "code",
   "execution_count": null,
   "metadata": {},
   "outputs": [
    {
     "name": "stdout",
     "output_type": "stream",
     "text": [
      "Sum:  6.0\n",
      "Difference:  2.0\n",
      "Product:  8.0\n",
      "Division:  2.0\n",
      "Floor-division or Quotient with no decimal places: 2.0\n",
      "Exponentiation: 16.0\n",
      "Remainder:  0.0\n"
     ]
    }
   ],
   "source": [
    "# Calculator\n",
    "num1 = float(input(\"Type your first number\"))\n",
    "num2 = float(input(\"Type your second number\"))\n",
    "\n",
    "addition  = num1 + num2\n",
    "difference = num1 - num2\n",
    "multiply = num1 * num2\n",
    "division = num1 / num2\n",
    "quotient = num1 // num2\n",
    "exponential = num1 ** num2\n",
    "remainder = num1 % num2\n",
    "\n",
    "print(\"Sum: \" , addition)\n",
    "print(\"Difference: \" , difference)\n",
    "print(\"Product: \" , multiply)\n",
    "print(\"Division: \" , division)\n",
    "print(\"Floor-division or Quotient with no decimal places:\", quotient)\n",
    "print(\"Exponentiation:\" , exponential)\n",
    "print(\"Remainder: \", remainder)\n"
   ]
  },
  {
   "cell_type": "markdown",
   "metadata": {},
   "source": [
    "## Data Types:\n",
    "### Definition: \n",
    "- Data types are the classification of data which tell the compiler or interpreter how the programmer intend to use the data \n",
    "- They determine the type of operations that can be performed on the data, the values that the data can take and the amount of memory needed to store the data. \n",
    "### Importance of Data types in the Programming Languages:\n",
    "- Data types ensures the data is stored in an efficient way\n",
    "- They help in performing correct operation on data\n",
    "- Proper use of data types prevent us from the bugs and errors in the program.\n",
    "### Basic Data Types \n",
    "- Integer\n",
    "- Floating-point number\n",
    "- Strings\n",
    "- Boolean\n",
    "### Advanced Data Types\n",
    "- Lists\n",
    "- Tuples\n",
    "- Sets\n",
    "- Dictionaries "
   ]
  },
  {
   "cell_type": "code",
   "execution_count": 67,
   "metadata": {},
   "outputs": [
    {
     "name": "stdout",
     "output_type": "stream",
     "text": [
      "123 <class 'int'>\n",
      "25.369 <class 'float'>\n",
      "True <class 'bool'>\n",
      "Nitro Natarajan <class 'str'>\n"
     ]
    }
   ],
   "source": [
    "# Integer Example \n",
    "# we can assign an values to the variable by using the data type in built function what we use to convert the data types. \n",
    "count = int(123);\n",
    "print(count, type(count)) \n",
    "# Floating point number Example \n",
    "decimal = float(25.369);\n",
    "print(decimal,type(decimal)) \n",
    "# Boolean Type example\n",
    "is_null = bool(True);\n",
    "is_good = bool() # it is return the False in default if we dont specify the True or False into the function \n",
    "print(is_null, type(is_null))\n",
    "# String example \n",
    "name = str(\"Nitro Natarajan\")\n",
    "print(name, type(name))"
   ]
  },
  {
   "cell_type": "code",
   "execution_count": 73,
   "metadata": {},
   "outputs": [
    {
     "name": "stdout",
     "output_type": "stream",
     "text": [
      "Hello : Hi 5\n"
     ]
    }
   ],
   "source": [
    "# Common Errors\n",
    "result = \"Hello : Hi \" + str(5)  \n",
    "print(result)\n",
    "#->  concatenating string with the int will give an error. To prevent this error, we can convert the type of the 5 to str"
   ]
  },
  {
   "cell_type": "markdown",
   "metadata": {},
   "source": [
    "## Deep dive into the Operation/operator's In Python \n",
    "### Introduction to Operators\n",
    "### 1. Arithmetic Operators\n",
    "- Addition\n",
    "- Subtraction\n",
    "- Multiplication\n",
    "- Division\n",
    "- Floor division\n",
    "- Modulus\n",
    "- Exponentiation \n",
    "\n",
    "### 2. Comparision Operators\n",
    "- Double Equal to check == (equality check) \n",
    "- Not equal to != \n",
    "- Greater than > \n",
    "- Greater than or equal to >=\n",
    "- Lesser than < \n",
    "- Lesser than or equal to <= \n",
    "\n",
    "### 3. Logical Operator\n",
    "- AND\n",
    "- OR\n",
    "- NOT\n",
    "\n",
    "### 4. Assignment Operator\n",
    " =, +=,-=,*=,/=, **=, //=, %=, &=, !=, ^=, >>=, <<=, := \n",
    "\n",
    "### 5. Identity Operators\n",
    "- is \n",
    "- is not \n",
    "\n",
    "### 6. Membership operator \n",
    "- in \n",
    "- not in \n",
    "\n",
    "### 7. Bitwise operator\n",
    "- &     ========= Bitwise AND\n",
    "- |     ========= Bitwise OR\n",
    "- ^     ========= Bitwise NOR\n",
    "- ~     ========= Bitwise NOT\n",
    "- <<    ========= Left shift operator\n",
    "- \\>\\>  ========= Right shift operator\n"
   ]
  },
  {
   "cell_type": "markdown",
   "metadata": {},
   "source": [
    "Operators: \n",
    "  \n",
    "  For any operations like arithmetic, logical, assigning operations we do with the data of any format, we need an operators to calculate or determine the output by processing it with the operators like we do in the mathematics using the + - * % / etc..Here we will see all the available operators and its use cases in the below code. "
   ]
  },
  {
   "cell_type": "code",
   "execution_count": 150,
   "metadata": {},
   "outputs": [
    {
     "name": "stdout",
     "output_type": "stream",
     "text": [
      "Simple Calculator_application\n",
      "Addition:  11.0\n",
      "Subtraction:  -1.0\n",
      "Multiplication:  30.0\n",
      "Division:  0.8333333333333334\n",
      "floor_division:  0.0\n",
      "Modulus 5.0\n",
      "Exponentiation 15625.0\n"
     ]
    }
   ],
   "source": [
    "# Arithmetic Operation - to perform the operation we need at least two operand and one operator \n",
    "num1 = float(input(\"Enter the first number\"));num2= float(input(\"Enter the second number\"))\n",
    "add_result = num1 + num2 # addition generally add two int or float values together and return it. we save it and use it further. \n",
    "difference_result = num1 - num2 # subtraction, we determine the difference between the two int or float values. \n",
    "product_result = num1 * num2 # multiplication\n",
    "division_result = num1 / num2 # it divide and return the result in decimal or float value.\n",
    "floor_div_result = num1 // num2 # it floor division, generally it return the quotient without the decimal places. \n",
    "modulus_result = num1 % num2 # it return the remainder after the division.\n",
    "exponential_result = num1**num2 # it perform the exponential operation a^b in the mathematics. \n",
    "print(\"Simple Calculator_application\")\n",
    "print(\"Addition: \",add_result) \n",
    "print(\"Subtraction: \",difference_result)\n",
    "print(\"Multiplication: \",product_result)\n",
    "print(\"Division: \", division_result)\n",
    "print(\"floor_division: \",floor_div_result)\n",
    "print(\"Modulus\",modulus_result)\n",
    "print(\"Exponentiation\",exponential_result)\n"
   ]
  },
  {
   "cell_type": "code",
   "execution_count": null,
   "metadata": {},
   "outputs": [],
   "source": [
    "# comparision operators\n",
    "# == double equal to == operator to compare two operands and it return True or False. \n",
    "a = 10;b=20\n",
    "print(a==b) # it compare the value of a and b, it gives True if they both contains the same value\n",
    "print(10 == 10) # Its true. Because they both have same value \n",
    "print(10 == \"10\") # Here 10 - str(10) is not same as the 10. we it returns False. \n",
    "print(\"Krish\" == \"krish\") # it return the false because the both operands are not same. \n",
    "print(a+5 == b-5) # it return true because a+5 = 15, b-5 = 15 and then compare with ==, so it end up with true.\n",
    "\n",
    "# not qual to != which check the both operands are not equal to each other.If not equal then it return True, otherwise False.\n",
    "print(a != b) # return true because 10 not equal to 20.. \n",
    "print(10 != 10) #return false because 10 is equal to 10.\n",
    "print(\"Krish\" != \"krish\") # return true.\n",
    "\n",
    "# greater than or greater than or equal to, by which we can compare two values a > b, if yes -> true otherwise it is false \n",
    "print(\"is a greater than b? : \", a>b)\n",
    "print(\"is 6 is greater than or equal to 4? \" , 6>=4)\n",
    "\n",
    "# lesser than or less than or equal to, by which we can compare two values a < b, if yes -> true otherwise it is false \n",
    "print(\"is a less than b? : \", a<b)\n",
    "print(\"is 6 is less than or equal to 4? \" , 6<=4)\n",
    "\n",
    "## Assignment Operator \n",
    "\n",
    "id_no = 10\n",
    "roll_num = id_no\n",
    "print(\"id_no : \", id_no ,\", Roll_num\", roll_num , \"while check its quality, it gives : \" , id_no == roll_num)\n",
    "\n",
    "# if we wanted to increase the id by 1. what we can do now? 1 st way id_no = 10+1; or reassign it by id_no = 11; \n",
    "# to increment/add the int or float variable by some value then we can use += means x += 2 means x = x + 2\n",
    "id_no += 1; # this means the exist id_no values get increased by one if we check its value now, it will be 11.\n",
    "print(\"id_no added by 1: \",id_no) #same way, it works with other operators. - * / // ** % \n",
    "id_no -= 1 \n",
    "print(\"id_no subtracted by 1: \",id_no)\n",
    "id_no *=2\n",
    "print(\"id_no multiplied by 2: \", id_no)\n",
    "id_no /= 5\n",
    "print(\"id_no divided by 5: \",id_no)\n",
    "id_no //=3\n",
    "print(\"id_no floor divided by 3: \",id_no)\n",
    "id_no **= 3\n",
    "print(\"id_no exponent by 3: \",id_no)\n",
    "id_no %= 2\n",
    "print(\"id_no modulus by 2: \",id_no)\n",
    "roll_num &= 2\n",
    "print(\"roll_num |= 2 -> gives \", roll_num)\n",
    "roll_num |= 1\n",
    "print(\"roll_num |= 2 -> gives \", roll_num)\n",
    "roll_num ^= 1\n",
    "print(\"roll_num ^= 2 -> gives \", roll_num)\n",
    "roll_num <<= 2\n",
    "print(\"left shift by  2: \", roll_num)\n",
    "roll_num >>= 2\n",
    "print(\"Right shift by  2: \", roll_num)"
   ]
  },
  {
   "cell_type": "markdown",
   "metadata": {},
   "source": [
    "**Truth table for AND , OR**  \n",
    "\n",
    "| P\t| Q\t| AND | OR  | \n",
    "|---|---|-----|-----|\n",
    "| T\t| T |\tT   |\t T  |\t\n",
    "| T\t| F\t| F\t  |  T\t|\n",
    "| F\t| T |\tF  \t|  T\t|\n",
    "| F\t| F |\tF   |\t F  |\n",
    "\n",
    "\n",
    "**Truth table for NOT**\n",
    "\n",
    "| P | NOT |\n",
    "|---|-----|\n",
    "| T | F   |\n",
    "| F | T   |"
   ]
  },
  {
   "cell_type": "code",
   "execution_count": null,
   "metadata": {},
   "outputs": [
    {
     "name": "stdout",
     "output_type": "stream",
     "text": [
      "num is 10 >= num >=20 ? -> True\n",
      "He/She is allowed into the pub.\n",
      "False\n",
      "True\n",
      "True\n"
     ]
    }
   ],
   "source": [
    "# Logical Operator \n",
    "# AND is widely used to combine two condition where if all the given conditions becomes true, so that something has to be done \n",
    "num =10\n",
    "if num >= 10 and num <=20:\n",
    "  print(\"num is 10 >= num >=20 ? ->\", (num >= 10 and num <=20))\n",
    "else:\n",
    "  print(\"num is 10 >= num >=20 ? ->\", False)\n",
    "\n",
    "# OR is a logical operator which used in a place where any one of the condition met in the condition set, \n",
    "# then it has allow the block of code to execute\n",
    "\n",
    "age = 18; badge = \"9\"\n",
    "if age >=18 or badge == \"a\" or badge == \"A\":\n",
    "  print(\"He/She is allowed into the pub.\")\n",
    "else:\n",
    "  print(\"Wait until your age become 18 or get your valid A badge\")\n",
    "\n",
    "# NOT logical operator \n",
    "# it needs only one operand and it turns the True to False and False become True. \n",
    "print(not age)\n",
    "print(not False)\n",
    "print(not 0)"
   ]
  },
  {
   "cell_type": "code",
   "execution_count": 160,
   "metadata": {},
   "outputs": [
    {
     "name": "stdout",
     "output_type": "stream",
     "text": [
      "The given number : 3 is Odd\n",
      "2 ^ 20 :-> 1048576\n"
     ]
    }
   ],
   "source": [
    "\n",
    "# Application of bit wise operator \n",
    "# to check the given number is odd or even\n",
    "num = 3\n",
    "if num != 0 and (num & 1) == 0:\n",
    "  print(f\"The given number : {num} is Even\")\n",
    "elif num != 0 and (num & 1) == 1:\n",
    "  print(f\"The given number : {num} is Odd\") \n",
    "else:\n",
    "  print(\"Neither odd or nor even it is.. 0 - Zero it is\")\n",
    "\n",
    "# to find out the power of 2 by using left shift and right shift operator\n",
    "power = 20\n",
    "# 2^b => 1<<b = 1.2^b\n",
    "result = 1<<power\n",
    "print(\"2 ^\",power,\":->\",result)\n"
   ]
  },
  {
   "cell_type": "code",
   "execution_count": null,
   "metadata": {},
   "outputs": [],
   "source": []
  }
 ],
 "metadata": {
  "kernelspec": {
   "display_name": "Python 3",
   "language": "python",
   "name": "python3"
  },
  "language_info": {
   "codemirror_mode": {
    "name": "ipython",
    "version": 3
   },
   "file_extension": ".py",
   "mimetype": "text/x-python",
   "name": "python",
   "nbconvert_exporter": "python",
   "pygments_lexer": "ipython3",
   "version": "3.12.0"
  }
 },
 "nbformat": 4,
 "nbformat_minor": 2
}
