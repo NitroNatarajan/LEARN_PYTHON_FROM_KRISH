{
 "cells": [
  {
   "cell_type": "code",
   "execution_count": null,
   "metadata": {},
   "outputs": [
    {
     "name": "stdout",
     "output_type": "stream",
     "text": [
      "sepal_length    0\n",
      "sepal_width     0\n",
      "petal_length    0\n",
      "petal_width     0\n",
      "species         0\n",
      "dtype: int64\n"
     ]
    }
   ],
   "source": [
    "import numpy as np # Numerical calculation \n",
    "import pandas as pd # Data cleaning and manipulation \n",
    "import matplotlib.pyplot as mp # Data visualization \n",
    "import seaborn as sns  # ADV.Data visualization \n",
    "\n",
    "df = pd.read_csv(\"data.csv\")\n",
    "df1 = pd.read_excel(\"data.xlsx\")\n",
    "df2 = sns.load_dataset(\"iris\")\n",
    "# print(df2)\n",
    "# print(df2.head())\n",
    "# print(df2.head(10))\n",
    "# print(df2.tail())\n",
    "# print(df2.tail(10))\n",
    "# print(df2.shape)\n",
    "# print(df2.columns[0])\n",
    "# print(df2.dtypes)\n",
    "# print(df2.isnull().sum())\n",
    "\n",
    "# to check the missing values in the data set \n",
    "# we cant check whole data by tracing the each row for the missing values (null)\n"
   ]
  },
  {
   "cell_type": "code",
   "execution_count": null,
   "metadata": {},
   "outputs": [],
   "source": []
  }
 ],
 "metadata": {
  "kernelspec": {
   "display_name": "Python 3",
   "language": "python",
   "name": "python3"
  },
  "language_info": {
   "codemirror_mode": {
    "name": "ipython",
    "version": 3
   },
   "file_extension": ".py",
   "mimetype": "text/x-python",
   "name": "python",
   "nbconvert_exporter": "python",
   "pygments_lexer": "ipython3",
   "version": "3.12.0"
  }
 },
 "nbformat": 4,
 "nbformat_minor": 2
}
