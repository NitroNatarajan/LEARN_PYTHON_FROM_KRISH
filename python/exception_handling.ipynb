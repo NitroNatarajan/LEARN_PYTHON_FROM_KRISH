{
 "cells": [
  {
   "cell_type": "markdown",
   "metadata": {},
   "source": [
    "### Exception Handling:\n",
    "Exception handling in python allows us to handle the errors gracefully and take corrective actions without stopping the execution of the program. Here we cover the basics of exceptions, including how to use ****try,except, else and finally**** blocks. \n",
    "\n",
    "#### Why are exceptions?\n",
    "Exceptions are the events that disrupt the normal flow of a program. They occur when an error is encountered during the program execution. \n",
    "\n",
    "Common exception include:\n",
    "- ZeroDivisionError:Dividing by zero \n",
    "- FileNotFoundError: File not found\n",
    "- ValueError:Invalid Value\n",
    "- TypeError:Invalid Type\n"
   ]
  },
  {
   "cell_type": "code",
   "execution_count": null,
   "metadata": {},
   "outputs": [
    {
     "name": "stdout",
     "output_type": "stream",
     "text": [
      "The variable has not been assigned.\n",
      "name 'b' is not defined\n",
      "division by zero\n",
      "The denominator zero is not allowed\n"
     ]
    }
   ],
   "source": [
    "# Exception Handling in practical coding environment\n",
    "# In order to handle the exception we need to use try except block\n",
    "\n",
    "try:\n",
    "  a=b\n",
    "except:\n",
    "  print(\"The variable has not been assigned.\")\n",
    "# In the try block,the error raised dude to the variable b is not defined before we assign it to the a. \n",
    "# In that case, we can react to that error caused in the try block by the except block.\n",
    "\n",
    "\n",
    "try:\n",
    "  a=b\n",
    "except NameError as er:\n",
    "  print(er)\n",
    "\n",
    "\n"
   ]
  },
  {
   "cell_type": "code",
   "execution_count": 7,
   "metadata": {},
   "outputs": [
    {
     "name": "stdout",
     "output_type": "stream",
     "text": [
      "name 'b' is not defined\n"
     ]
    }
   ],
   "source": [
    "try:\n",
    "  res = 1/2\n",
    "  a=b\n",
    "except ZeroDivisionError as ex:\n",
    "  print(ex)\n",
    "  print(\"The denominator zero is not allowed\")\n",
    "except Exception as ex1:\n",
    "  print(ex1)\n",
    "  # All the errors are derived from a single class called Exception "
   ]
  },
  {
   "cell_type": "code",
   "execution_count": 11,
   "metadata": {},
   "outputs": [],
   "source": [
    "try:\n",
    "  num=int(input(\"Enter a number: \"))\n",
    "  result = 10/num \n",
    "except ValueError as ve:\n",
    "  print(\"Value error: please feed the valid value\")\n",
    "except ZeroDivisionError as er:\n",
    "  print(\"The integer shouldn't be equal to zero\")\n",
    "except Exception as ex: \n",
    "  print(ex)"
   ]
  },
  {
   "cell_type": "code",
   "execution_count": null,
   "metadata": {},
   "outputs": [
    {
     "name": "stdout",
     "output_type": "stream",
     "text": [
      "This result is 5.0\n"
     ]
    }
   ],
   "source": [
    "# try,except and else block \n",
    "\n",
    "try:\n",
    "  num=int(input(\"Enter a number: \"))\n",
    "  result = 10/num\n",
    "except ValueError as er:\n",
    "  print(\"This is not a valid number\")\n",
    "except ZeroDivisionError as ex:\n",
    "  print(\"The denominator shouldn't be zero\")\n",
    "else:\n",
    "  print(f\"This result is {result}\")\n",
    "\n",
    "# If any exception triggered then else block will be triggered when the try block doesn't emit any error"
   ]
  },
  {
   "cell_type": "code",
   "execution_count": null,
   "metadata": {},
   "outputs": [
    {
     "name": "stdout",
     "output_type": "stream",
     "text": [
      "That's not a valid number!\n",
      "Execution complete\n"
     ]
    }
   ],
   "source": [
    "# try, except, else and finally keywords together\n",
    "\n",
    "# finally keyword to \n",
    "\n",
    "try:\n",
    "  num = int(input(\"Enter the number: \"))\n",
    "  result = 10/num \n",
    "except ValueError:\n",
    "  print(\"That's not a valid number!\")\n",
    "except ZeroDivisionError:\n",
    "  print(\"The num shouldn't be zero. \")\n",
    "except Exception as ex:\n",
    "  print(ex) \n",
    "else:\n",
    "  print(f\"The result is {result}\")\n",
    "finally:\n",
    "  print(\"Execution complete\")\n",
    "\n",
    "# the else block get executed when no error raised in the try block.\n",
    "# If any error in the try block, then it could be handled by the exception handlers except blocks \n",
    "# If no error in the try block, then else block get executed then.\n",
    "# Finally block, which will get execute whether the error comes or not. It has to execute anyhow.\n",
    "\n",
    "# where do we use this practically - so practical use case where we use these finally \n",
    "# The answer is database management. Lets say we have connected to database in the try block, \n",
    "# in the database, i got some connection issues,user/password issues and all right? \n",
    "# Due to this error, i have handled it through an exception handler but in the end, i have to close the connection \n",
    "# of that database.That code has to be in the finally section\n"
   ]
  },
  {
   "cell_type": "code",
   "execution_count": null,
   "metadata": {},
   "outputs": [
    {
     "name": "stdout",
     "output_type": "stream",
     "text": [
      "This is Natarajan\n",
      "Newbie to the IT World\n",
      "File get closed..\n"
     ]
    }
   ],
   "source": [
    "# File handling and exception handling:\n",
    "\n",
    "try:\n",
    "  file = open(\"sample1.txt\",'r')\n",
    "  content = file.read()\n",
    "  # a=b\n",
    "except FileNotFoundError:\n",
    "  print(\"File not found!\")\n",
    "except Exception as ex:\n",
    "  print(ex)\n",
    "else:\n",
    "  print(content)\n",
    "finally:\n",
    "  if 'file' in locals() or not file.closed():\n",
    "    file.close()\n",
    "    print(\"File get closed..\")\n"
   ]
  },
  {
   "cell_type": "code",
   "execution_count": null,
   "metadata": {},
   "outputs": [],
   "source": []
  }
 ],
 "metadata": {
  "kernelspec": {
   "display_name": "Python 3",
   "language": "python",
   "name": "python3"
  },
  "language_info": {
   "codemirror_mode": {
    "name": "ipython",
    "version": 3
   },
   "file_extension": ".py",
   "mimetype": "text/x-python",
   "name": "python",
   "nbconvert_exporter": "python",
   "pygments_lexer": "ipython3",
   "version": "3.12.0"
  }
 },
 "nbformat": 4,
 "nbformat_minor": 2
}
