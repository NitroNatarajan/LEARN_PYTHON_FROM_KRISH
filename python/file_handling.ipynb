{
 "cells": [
  {
   "cell_type": "markdown",
   "metadata": {},
   "source": [
    "#### Import modules and packages in python\n",
    "In python, modules and packages help organize and reuse the code. Heres a comprehensive guide on how to import them."
   ]
  },
  {
   "cell_type": "code",
   "execution_count": 18,
   "metadata": {},
   "outputs": [
    {
     "name": "stdout",
     "output_type": "stream",
     "text": [
      "True\n",
      "2.0\n",
      "3.141592653589793\n",
      "3.0\n",
      "[1 2 3 4 5 6 7]\n"
     ]
    }
   ],
   "source": [
    "import math # this means that we are importing the whole packages.\n",
    "# import <package_name> \n",
    "# eg: numpy, pandas, seaborn, matplotlib are th python packages each of which contains the built-in \n",
    "# data structure and collection of objects and functions and methods.\n",
    "math.sqrt(9)\n",
    "math.pi\n",
    "\n",
    "import re\n",
    "x = re.match(r\"^[A-Za-z0-9.]\",\"Natarajan\") is not None\n",
    "print(x)\n",
    "\n",
    "from math import pi, sqrt # this way we can import the method alone from the packages\n",
    "print(sqrt(4))\n",
    "print(pi)\n",
    "\n",
    "from math import * # which import al the methods from the math package\n",
    "print(sqrt(9))\n",
    "\n",
    "import numpy as np\n",
    "# as means alias here it means np refers the whole package numpy for referring it simpler way.\n",
    "arr = np.array([1,2,3,4,5,6,7])\n",
    "print(arr)"
   ]
  },
  {
   "cell_type": "markdown",
   "metadata": {},
   "source": [
    "### custom packages:\n",
    "- we can create my own custom package and use it my environment\n",
    "- i have package folder in the python .. \n",
    "- _init_.py is a special file used in the python to define the package and initialize their namespace\n",
    "- lets create the own maths module file in the package folder in the name of maths.py in this case of practice.\n",
    "- so in the maths,py file, i have defined the function called add() for my calculator application. \n",
    "- This is how we can create the own packages and module and use it in our code file when we need.\n",
    "- Each package may have many modules in it. Each module may have several methods in it.\n",
    "- "
   ]
  },
  {
   "cell_type": "code",
   "execution_count": null,
   "metadata": {},
   "outputs": [],
   "source": [
    "# This is how we can create the own packages and module and use it in our code file when we need.\n",
    "# each package may have many modules in it. each module may have several methods in it.\n",
    "from package.maths import add\n",
    "add(2,3)\n",
    "\n",
    "from package.maths import add\n",
    "print(add(50,40))\n",
    "\n",
    "from package.subpackage.multi import multiply\n",
    "print(multiply(2,3))\n",
    "\n",
    "# This is how we can create the package and modules and subpackage and subpackage modules and use it.."
   ]
  },
  {
   "cell_type": "markdown",
   "metadata": {},
   "source": [
    "### Standard Library Overview\n",
    "Python has lot and lot of libraries we can use it free for our use cases. It is a vast collection of modules and packages that come bundled with python, providing a wide range of functionalities out of the box. Here's is an overview of some of the most commonly used modules and packages in thr python Standard Library.\n",
    "\n",
    "#### Libraries \n",
    "- array which create an array\n",
    "- math \n",
    "- re"
   ]
  },
  {
   "cell_type": "code",
   "execution_count": null,
   "metadata": {},
   "outputs": [
    {
     "name": "stdout",
     "output_type": "stream",
     "text": [
      "array('i', [1, 2, 3, 4, 5])\n",
      "9.0\n",
      "3.141592653589793\n",
      "6\n",
      "Apple\n",
      "d:\\Developer\\UDEMY\\Python - Krish\\python\n"
     ]
    },
    {
     "ename": "",
     "evalue": "",
     "output_type": "error",
     "traceback": [
      "\u001b[1;31mThe Kernel crashed while executing code in the current cell or a previous cell. \n",
      "\u001b[1;31mPlease review the code in the cell(s) to identify a possible cause of the failure. \n",
      "\u001b[1;31mClick <a href='https://aka.ms/vscodeJupyterKernelCrash'>here</a> for more info. \n",
      "\u001b[1;31mView Jupyter <a href='command:jupyter.viewOutput'>log</a> for further details."
     ]
    }
   ],
   "source": [
    "import array \n",
    "arr = array.array(\"i\",[1,2,3,4,5])\n",
    "print(arr)\n",
    "\n",
    "import math \n",
    "print(math.sqrt(81))\n",
    "print(math.pi)\n",
    "\n",
    "import random # random library\n",
    "print(random.randint(1,10)) # which provide random methods like randint return random int from 1 to 10\n",
    "print(random.choice([\"Apple\", \"Orange\", \"Banana\", \"Grapes\"])) # draw any one item randomly \n",
    "\n",
    "# for file and directory access\n",
    "import os\n",
    "print(os.getcwd())\n",
    "os.mkdir(f\"{os.getcwd()}\\\\test_dir\")"
   ]
  },
  {
   "cell_type": "code",
   "execution_count": null,
   "metadata": {},
   "outputs": [],
   "source": []
  }
 ],
 "metadata": {
  "kernelspec": {
   "display_name": "Python 3",
   "language": "python",
   "name": "python3"
  },
  "language_info": {
   "codemirror_mode": {
    "name": "ipython",
    "version": 3
   },
   "file_extension": ".py",
   "mimetype": "text/x-python",
   "name": "python",
   "nbconvert_exporter": "python",
   "pygments_lexer": "ipython3",
   "version": "3.12.0"
  }
 },
 "nbformat": 4,
 "nbformat_minor": 2
}
