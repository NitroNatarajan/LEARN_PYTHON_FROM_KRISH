{
 "cells": [
  {
   "cell_type": "markdown",
   "metadata": {},
   "source": [
    "#### Import modules and packages in python\n",
    "In python, modules and packages help organize and reuse the code. Heres a comprehensive guide on how to import them."
   ]
  },
  {
   "cell_type": "code",
   "execution_count": 18,
   "metadata": {},
   "outputs": [
    {
     "name": "stdout",
     "output_type": "stream",
     "text": [
      "True\n",
      "2.0\n",
      "3.141592653589793\n",
      "3.0\n",
      "[1 2 3 4 5 6 7]\n"
     ]
    }
   ],
   "source": [
    "import math # this means that we are importing the whole packages.\n",
    "# import <package_name> \n",
    "# eg: numpy, pandas, seaborn, matplotlib are th python packages each of which contains the built-in \n",
    "# data structure and collection of objects and functions and methods.\n",
    "math.sqrt(9)\n",
    "math.pi\n",
    "\n",
    "import re\n",
    "x = re.match(r\"^[A-Za-z0-9.]\",\"Natarajan\") is not None\n",
    "print(x)\n",
    "\n",
    "from math import pi, sqrt # this way we can import the method alone from the packages\n",
    "print(sqrt(4))\n",
    "print(pi)\n",
    "\n",
    "from math import * # which import al the methods from the math package\n",
    "print(sqrt(9))\n",
    "\n",
    "import numpy as np\n",
    "# as means alias here it means np refers the whole package numpy for referring it simpler way.\n",
    "arr = np.array([1,2,3,4,5,6,7])\n",
    "print(arr)"
   ]
  },
  {
   "cell_type": "markdown",
   "metadata": {},
   "source": [
    "### custom packages:\n",
    "- we can create my own custom package and use it my environment\n",
    "- i have package folder in the python .. \n",
    "- _init_.py is a special file used in the python to define the package and initialize their namespace\n",
    "- lets create the own maths module file in the package folder in the name of maths.py in this case of practice.\n",
    "- so in the maths,py file, i have defined the function called add() for my calculator application. \n",
    "- This is how we can create the own packages and module and use it in our code file when we need.\n",
    "- Each package may have many modules in it. Each module may have several methods in it.\n",
    "- "
   ]
  },
  {
   "cell_type": "code",
   "execution_count": null,
   "metadata": {},
   "outputs": [],
   "source": [
    "# This is how we can create the own packages and module and use it in our code file when we need.\n",
    "# each package may have many modules in it. each module may have several methods in it.\n",
    "from package.maths import add\n",
    "add(2,3)\n",
    "\n",
    "from package.maths import add\n",
    "print(add(50,40))\n",
    "\n",
    "from package.subpackage.multi import multiply\n",
    "print(multiply(2,3))\n",
    "\n",
    "# This is how we can create the package and modules and subpackage and subpackage modules and use it.."
   ]
  },
  {
   "cell_type": "markdown",
   "metadata": {},
   "source": [
    "### Standard Library Overview\n",
    "Python has lot and lot of libraries we can use it free for our use cases. It is a vast collection of modules and packages that come bundled with python, providing a wide range of functionalities out of the box. Here's is an overview of some of the most commonly used modules and packages in thr python Standard Library.\n",
    "\n",
    "#### Libraries \n",
    "- array which create an array\n",
    "- math \n",
    "- re"
   ]
  },
  {
   "cell_type": "code",
   "execution_count": null,
   "metadata": {},
   "outputs": [],
   "source": [
    "import array # this library for creating an array \n",
    "arr = array.array(\"i\",[1,2,3,4,5])\n",
    "print(arr)\n",
    "\n",
    "import math # for mathematical methods and function \n",
    "print(math.sqrt(81))\n",
    "print(math.pi)\n",
    "\n",
    "import random # random library for getting the random output from the range, list of elements\n",
    "print(random.randint(1,10)) # which provide random methods like randint return random int from 1 to 10\n",
    "print(random.choice([\"Apple\", \"Orange\", \"Banana\", \"Grapes\"])) # draw any one item randomly \n",
    "\n",
    "# os library for file and directory access\n",
    "import os\n",
    "print(os.getcwd())\n",
    "os.mkdir(f\"{os.getcwd()}\\\\test_dir\")"
   ]
  },
  {
   "cell_type": "code",
   "execution_count": null,
   "metadata": {},
   "outputs": [
    {
     "data": {
      "text/plain": [
       "'./dest.txt'"
      ]
     },
     "execution_count": 3,
     "metadata": {},
     "output_type": "execute_result"
    }
   ],
   "source": [
    "# to do the high level operation on files and collection of files.\n",
    "import shutil\n",
    "shutil.copyfile(\"./sample.txt\",\"./dest.txt\")"
   ]
  },
  {
   "cell_type": "code",
   "execution_count": null,
   "metadata": {},
   "outputs": [],
   "source": [
    "# Data serialization means convert dictionary to json or convert the Dataframe to json . \n",
    "import json\n",
    "data = {\"name\":\"Natarajan\",\"age\":32}\n",
    "json_str = json.dumps(data)\n",
    "print(json_str)\n",
    "print(type(json_str))\n",
    "\n",
    "parsed_data = json.loads(json_str)\n",
    "print(parsed_data)\n",
    "print(type(parsed_data))\n",
    "\n",
    "# CSV library - to create an csv file and load data and read and write the csv file using the csv. \n",
    "import csv\n",
    "\n",
    "with open(\"example.csv\", mode=\"w\", newline=\"\") as file:\n",
    "  writer = csv.writer(file)\n",
    "  writer.writerow([\"name\",\"age\"])\n",
    "  writer.writerow([\"Natraj\",30 ])\n",
    "\n",
    "with open(\"example.csv\", mode=\"r\") as file:\n",
    "  reader = csv.reader(file)\n",
    "  for row in reader:\n",
    "    print(row)"
   ]
  },
  {
   "cell_type": "code",
   "execution_count": 12,
   "metadata": {},
   "outputs": [
    {
     "name": "stdout",
     "output_type": "stream",
     "text": [
      "2025-03-18 09:47:16.971744\n",
      "2025-03-17 09:47:16.971744\n",
      "1742271436.9717445\n",
      "1742271438.9728835\n"
     ]
    }
   ],
   "source": [
    "# datetime library \n",
    "from datetime import datetime,timedelta\n",
    "now=datetime.now()\n",
    "print(now)\n",
    "\n",
    "yesterday = now-timedelta(days=1)\n",
    "print(yesterday)\n",
    "\n",
    "# time library\n",
    "\n",
    "import time\n",
    "print(time.time())\n",
    "time.sleep(2)\n",
    "print(time.time())"
   ]
  },
  {
   "cell_type": "code",
   "execution_count": 16,
   "metadata": {},
   "outputs": [
    {
     "name": "stdout",
     "output_type": "stream",
     "text": [
      "200\n"
     ]
    }
   ],
   "source": [
    "#  re -> regular expression \n",
    "import re\n",
    "pattern = r\"\\d+\" # is there any digit pattern \n",
    "match = re.search(pattern, \"There are 200 apples and 300 oranges\")\n",
    "print(match.group())"
   ]
  },
  {
   "cell_type": "markdown",
   "metadata": {},
   "source": [
    "#### Conclusion for the standard library: \n",
    "Python's Standard Library is extensive and provide a tools for almost any task we can think of, from the file handling to web services, from data serialization, to concurrent execution.Familiarizing yourself with the modules and packages available in the Standard Library can significantly enhance your ability to write efficient and effective Python Programs. "
   ]
  },
  {
   "cell_type": "markdown",
   "metadata": {},
   "source": [
    " Here’s a list of the most **fundamental and useful built-in Python libraries** that are highly relevant to **data science, machine learning, and data handling**:\n",
    "\n",
    "### **1. Data Handling & Processing**\n",
    "- **`csv`** – Read and write CSV files efficiently.\n",
    "- **`json`** – Handle JSON data (common in web APIs and data storage).\n",
    "- **`sqlite3`** – Work with SQLite databases for lightweight data storage.\n",
    "- **`collections`** – Provides high-performance data structures like `Counter`, `defaultdict`, `OrderedDict`.\n",
    "- **`dataclasses`** – Simplifies the creation of classes for structured data.\n",
    "\n",
    "### **2. Numerical & Statistical Computations**\n",
    "- **`math`** – Basic mathematical operations (e.g., `sqrt`, `log`, `sin`, `cos`).\n",
    "- **`statistics`** – Built-in statistical functions like `mean`, `median`, `variance`, `stdev`.\n",
    "- **`decimal`** – Precise decimal arithmetic (useful for financial calculations).\n",
    "- **`fractions`** – Work with fractions (useful for exact arithmetic operations).\n",
    "- **`random`** – Generate random numbers (useful in simulations, sampling, and ML training).\n",
    "\n",
    "### **3. Date & Time Handling**\n",
    "- **`datetime`** – Handle and manipulate dates and times.\n",
    "- **`time`** – Work with timestamps and sleep functions.\n",
    "- **`calendar`** – Deal with calendars and date-related operations.\n",
    "\n",
    "### **4. Text Processing & Regular Expressions**\n",
    "- **`re`** – Regular expressions for text searching and pattern matching.\n",
    "- **`string`** – Useful string operations (like formatting, constants, etc.).\n",
    "- **`unicodedata`** – Handle Unicode text (useful for NLP tasks).\n",
    "\n",
    "### **5. File Handling & OS Operations**\n",
    "- **`os`** – Interact with the operating system (file handling, environment variables).\n",
    "- **`shutil`** – File operations like copying, moving, and removing.\n",
    "- **`pathlib`** – Modern way to work with file system paths.\n",
    "- **`io`** – Handle various I/O operations, like working with streams.\n",
    "- **`glob`** – Search for file patterns (e.g., `*.csv` files).\n",
    "\n",
    "### **6. Data Serialization & Networking**\n",
    "- **`pickle`** – Serialize and deserialize Python objects (used in ML model saving).\n",
    "- **`gzip`** – Read and write compressed files.\n",
    "- **`zipfile`** – Work with ZIP archives.\n",
    "- **`tarfile`** – Handle tar archives.\n",
    "- **`http.client`** – Work with HTTP requests (useful for APIs).\n",
    "- **`urllib`** – Fetch data from URLs (used in web scraping).\n",
    "- **`socket`** – Network programming (useful for real-time data applications).\n",
    "\n",
    "### **7. Concurrency & Parallelism**\n",
    "- **`threading`** – Run tasks concurrently using threads.\n",
    "- **`multiprocessing`** – Run tasks in parallel (better for CPU-heavy tasks).\n",
    "- **`asyncio`** – Asynchronous programming (useful for high-performance tasks).\n",
    "\n",
    "### **8. Performance Optimization**\n",
    "- **`functools`** – Functional programming utilities (e.g., `lru_cache`, `reduce`).\n",
    "- **`itertools`** – Fast looping and combinatorics (`permutations`, `combinations`).\n",
    "- **`heapq`** – Heap queue algorithm (efficient priority queues).\n",
    "- **`bisect`** – Fast searching in sorted lists.\n",
    "- **`timeit`** – Measure execution time of small code snippets.\n",
    "- **`cProfile`** – Profile your Python code for performance analysis.\n",
    "\n",
    "### **9. Debugging & Logging**\n",
    "- **`logging`** – Standard logging framework for debugging.\n",
    "- **`traceback`** – Get detailed error tracebacks.\n",
    "- **`warnings`** – Handle and suppress warnings.\n",
    "\n",
    "---\n",
    "\n",
    "### **How to Learn These Libraries Effectively?**\n",
    "1. **Explore each library one by one.** Start with `csv`, `json`, `math`, `datetime`, and `collections`.\n",
    "2. **Use official documentation.** Python’s [docs](https://docs.python.org/3/library/) provide great explanations.\n",
    "3. **Try small projects** using these libraries (e.g., parsing CSV, analyzing logs, or working with APIs).\n",
    "4. **Practice with real-world datasets** using built-in tools before moving to external libraries like `pandas` or `numpy`.\n"
   ]
  },
  {
   "cell_type": "markdown",
   "metadata": {},
   "source": [
    "# File Operation - READ and WRITE files:\n",
    "\n",
    "File handling is a crucial part of any programming lang. Python provides built-in functions and methods to read from and write to files, both text and binary. \n",
    "\n",
    "- with open(\"path\",mode=\"r\") as file: which is the function we use to read the file \n"
   ]
  },
  {
   "cell_type": "code",
   "execution_count": 18,
   "metadata": {},
   "outputs": [
    {
     "name": "stdout",
     "output_type": "stream",
     "text": [
      "Hello Natarajan\n",
      "How are you man?\n",
      "Hello Natarajan\n",
      "How are you man?\n"
     ]
    }
   ],
   "source": [
    "# Read the file content \n",
    "with open(\"sample.txt\", \"r\") as file:\n",
    "  content = file.read()\n",
    "  print(content)\n",
    "\n",
    "# read the file line by line\n",
    "with open(\"sample.txt\", \"r\") as file:\n",
    "  for line in file:\n",
    "    print(line.strip()) # to remove the new line character"
   ]
  },
  {
   "cell_type": "code",
   "execution_count": 27,
   "metadata": {},
   "outputs": [],
   "source": [
    "# write a file or overwriting\n",
    "\n",
    "with open(\"sample.txt\",\"w\") as file:\n",
    "  file.write(\"HELLO WORLD \\n\")\n",
    "  file.write(\"This is the new line\")\n",
    "\n",
    "  # this will delete all the existing content and replace all the content by the new content.\n",
    "\n",
    "# to append some content with the existing content\n",
    "with open(\"sample.txt\",\"a\") as file :\n",
    "  file.write(\"\\nAppend Operation taking place...\")\n",
    "  file.write(\"\\nThis is my new content...\\n\")\n",
    "  # writing multiple lines \n",
    "  file.write(\"First line \\nSecond line\\nThird line\\nFourth Line\\n\")\n",
    "  lines = [\"A\\n\", \"B\\n\",\"C\\n\",\"D\\n\",\"E\\n\"]\n",
    "  file.writelines(lines)"
   ]
  },
  {
   "cell_type": "code",
   "execution_count": null,
   "metadata": {},
   "outputs": [],
   "source": [
    "# Lets work with Binary file binary.bin file i python folder extension like .bin\n",
    "\n",
    "# writing to a binary file \n",
    "data = b'\\x00\\x01\\x02\\x03\\x04'\n",
    "with open(\"binary.bin\",\"wb\") as file:\n",
    "  file.write(data)\n",
    "\n",
    "with open(\"binary.bin\",\"rb\") as file:\n",
    "  content = file.read()\n",
    "  print(content)\n",
    "\n",
    "# read the text from the source.txt and write it into the dest.txt file\n",
    "with open(\"sample.txt\",\"r\") as file:\n",
    "  content = file.read()\n",
    "  print(content)\n",
    "\n",
    "with open(\"dest.txt\",\"a\") as file:\n",
    "  file.write(\"\\n\")\n",
    "  file.write(content)"
   ]
  },
  {
   "cell_type": "code",
   "execution_count": null,
   "metadata": {},
   "outputs": [],
   "source": [
    "# Read the text file and count the no of lines,words and characters:\n",
    "def count_file(file_path):\n",
    "  with open (file_path,\"r\") as file:\n",
    "    lines = file.readlines()\n",
    "    print(lines)\n",
    "    line_count = len(lines)\n",
    "    word_count = sum(len(line.strip().split()) for line in lines)\n",
    "    character_count = sum(len(line) for line in lines)\n",
    "    return line_count,word_count,character_count\n",
    "  \n",
    "filePath = \"dest.txt\"\n",
    "lines, words,characters = count_file(filePath)\n",
    "print(f\"Lines:{lines} , Words: {words}, characters: {characters}\")"
   ]
  },
  {
   "cell_type": "code",
   "execution_count": null,
   "metadata": {},
   "outputs": [
    {
     "name": "stdout",
     "output_type": "stream",
     "text": [
      "This is Natarajan\n",
      "Newbie to the IT World\n"
     ]
    }
   ],
   "source": [
    "# writing and reading a file\n",
    "with open(\"sample1.txt\",\"w+\") as file:\n",
    "  file.write(\"This is Natarajan\\nNewbie to the IT World\")\n",
    "\n",
    "  # now our cursor pointing the second line of the file, so we need to move it to the beginning.\n",
    "  # so we need to move the cursor to the top of the file otherwise no things will be read in the file.\n",
    "  file.seek(0)\n",
    "\n",
    "  # let's read the content now\n",
    "  content = file.read()\n",
    "  \n",
    "  # print it now\n",
    "  print(content)"
   ]
  },
  {
   "cell_type": "code",
   "execution_count": 48,
   "metadata": {},
   "outputs": [
    {
     "name": "stdout",
     "output_type": "stream",
     "text": [
      "Directory: package1 created\n",
      "['basic_python.ipynb', 'binary.bin', 'dest.txt', 'example.csv', 'file_handling.ipynb', 'functions.ipynb', 'index.py', 'package', 'package1', 'practise_problems', 'sample.txt', 'sample1.txt', 'test_dir']\n"
     ]
    }
   ],
   "source": [
    "# Create a new directory \n",
    "new_directory = \"package1\"\n",
    "os.mkdir(new_directory)\n",
    "print(f\"Directory: {new_directory} created\")\n",
    "\n",
    "# what if i wanna list all the files\n",
    "items = os.listdir(\".\")\n",
    "print(items)"
   ]
  },
  {
   "cell_type": "code",
   "execution_count": null,
   "metadata": {},
   "outputs": [
    {
     "name": "stdout",
     "output_type": "stream",
     "text": [
      "folder\\file.txt\n"
     ]
    }
   ],
   "source": [
    "# Joining paths\n",
    "dir_name = \"folder\"\n",
    "file_name = \"file.txt\"\n",
    "fullpath = os.path.join(dir_name,file_name)\n",
    "print(fullpath)\n",
    "\n",
    "# Joining paths: path from the root folder\n",
    "dir_name = \"folder\"\n",
    "file_name = \"file.txt\"\n",
    "fullpath = os.path.join(os.getcwd(),dir_name,file_name)\n",
    "print(fullpath)"
   ]
  },
  {
   "cell_type": "code",
   "execution_count": null,
   "metadata": {},
   "outputs": [
    {
     "name": "stdout",
     "output_type": "stream",
     "text": [
      "The path example1.txt does n't exists.\n"
     ]
    }
   ],
   "source": [
    "path = \"example1.txt\"\n",
    "if os.path.exists(path):\n",
    "  print(f\"The path {path} doesn't exists\")\n",
    "else:\n",
    "  print(f\"The path {path} does n't exists.\")\n",
    "\n",
    "# id doesn't exist, we can write the code to create the file in the path \n",
    "\n",
    "if os.path.exists(path): \n",
    "  print(f\"The path {path}\")"
   ]
  },
  {
   "cell_type": "code",
   "execution_count": null,
   "metadata": {},
   "outputs": [
    {
     "name": "stdout",
     "output_type": "stream",
     "text": [
      "The path package is a directory\n"
     ]
    }
   ],
   "source": [
    "# checking if a path is a file or directory\n",
    "import os\n",
    "path = \"package\"\n",
    "if os.path.isfile(path):\n",
    "  print(f\"Yes..it is file {path}\")\n",
    "elif os.path.isdir(path):\n",
    "  print(f\"The path {path} is a directory\")\n",
    "else:\n",
    "  print(f\"This path {path} is neither a file nor a directory \")\n"
   ]
  },
  {
   "cell_type": "code",
   "execution_count": 55,
   "metadata": {},
   "outputs": [
    {
     "name": "stdout",
     "output_type": "stream",
     "text": [
      "d:\\Developer\\UDEMY\\Python - Krish\\python\\sample.txt\n"
     ]
    }
   ],
   "source": [
    "# Getting the absolute path \n",
    "relative_path = \"sample.txt\"\n",
    "abs_path = os.path.abspath(relative_path)\n",
    "print(abs_path)"
   ]
  }
 ],
 "metadata": {
  "kernelspec": {
   "display_name": "Python 3",
   "language": "python",
   "name": "python3"
  },
  "language_info": {
   "codemirror_mode": {
    "name": "ipython",
    "version": 3
   },
   "file_extension": ".py",
   "mimetype": "text/x-python",
   "name": "python",
   "nbconvert_exporter": "python",
   "pygments_lexer": "ipython3",
   "version": "3.12.0"
  }
 },
 "nbformat": 4,
 "nbformat_minor": 2
}
