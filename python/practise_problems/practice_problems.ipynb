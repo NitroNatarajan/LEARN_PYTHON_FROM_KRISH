{
 "cells": [
  {
   "cell_type": "markdown",
   "metadata": {},
   "source": [
    "Function: \n",
    "Its task doer..to organize the block of code and reuse the code and improve the code readability"
   ]
  },
  {
   "cell_type": "code",
   "execution_count": 4,
   "metadata": {},
   "outputs": [
    {
     "name": "stdout",
     "output_type": "stream",
     "text": [
      "70.0\n",
      "25.0\n"
     ]
    }
   ],
   "source": [
    "# Temperature converter \n",
    "def temp_converter(temp, unit):\n",
    "  \"\"\"This function convert the temp between celsius and fahrenheit\"\"\"\n",
    "  if unit.lower() == \"f\":\n",
    "    return temp * (9/5) + temp\n",
    "  elif unit.lower() == \"c\":\n",
    "    return (temp-32) *(5/9)\n",
    "  else:\n",
    "    return None\n",
    "\n",
    "print(temp_converter(25,\"F\"))\n",
    "print(temp_converter(77,\"c\"))"
   ]
  },
  {
   "cell_type": "code",
   "execution_count": null,
   "metadata": {},
   "outputs": [
    {
     "name": "stdout",
     "output_type": "stream",
     "text": [
      "False\n",
      "False\n",
      "False\n"
     ]
    }
   ],
   "source": [
    "# Password strength checker \n",
    "def is_password_strong(password):\n",
    "  if len(password)<8:\n",
    "    return False\n",
    "  if not any(char.islower() for char in password):\n",
    "    return False\n",
    "  if not any(char.isdigit() for char in password):\n",
    "    return False\n",
    "  if not any (char.isupper() for char in password):\n",
    "    return False\n",
    "  if not any (char in \"!@#$%^&*?\" for char in password):\n",
    "    return False\n",
    "  return True\n",
    "\n",
    "print(is_password_strong(\"Natraj0501\"))\n",
    "print(is_password_strong(\"natarajan0501\"))\n",
    "print(is_password_strong(\"Natraj0501@\"))"
   ]
  },
  {
   "cell_type": "code",
   "execution_count": null,
   "metadata": {},
   "outputs": [],
   "source": []
  }
 ],
 "metadata": {
  "kernelspec": {
   "display_name": "Python 3",
   "language": "python",
   "name": "python3"
  },
  "language_info": {
   "codemirror_mode": {
    "name": "ipython",
    "version": 3
   },
   "file_extension": ".py",
   "mimetype": "text/x-python",
   "name": "python",
   "nbconvert_exporter": "python",
   "pygments_lexer": "ipython3",
   "version": "3.12.0"
  }
 },
 "nbformat": 4,
 "nbformat_minor": 2
}
