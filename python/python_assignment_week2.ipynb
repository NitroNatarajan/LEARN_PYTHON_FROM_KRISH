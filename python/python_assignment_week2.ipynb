{
 "cells": [
  {
   "cell_type": "markdown",
   "metadata": {},
   "source": [
    "### Python Assignment Week 2"
   ]
  },
  {
   "cell_type": "markdown",
   "metadata": {},
   "source": [
    "### Task 1:\n",
    "Create a string and retrieve the 4th character of the string. Also, reverse the string and display it.\n",
    "Expected Input: Enter a string: DataScience"
   ]
  },
  {
   "cell_type": "code",
   "execution_count": null,
   "metadata": {},
   "outputs": [
    {
     "name": "stdout",
     "output_type": "stream",
     "text": [
      "a\n",
      "ecneicSataD\n"
     ]
    }
   ],
   "source": [
    "## Task 1:\n",
    "# str = input(\"Enter the string value: \")\n",
    "str= \"DataScience\"\n",
    "fourth_char = str[4-1]\n",
    "print(fourth_char)\n",
    "reversed_str = str[::-1]\n",
    "print(reversed_str)"
   ]
  },
  {
   "cell_type": "markdown",
   "metadata": {},
   "source": [
    "### Task 2: \n",
    "Create a string and print each character in the string using a for loop. Additionally, print the characters at even indices.Expected Input: Enter a string: DataScience"
   ]
  },
  {
   "cell_type": "code",
   "execution_count": null,
   "metadata": {},
   "outputs": [],
   "source": [
    "# Task 2\n",
    "# str = input(\"Enter the string value: \")\n",
    "\n",
    "str= \"DataScience\"\n",
    "# loop over the string and printing the each character of the string\n",
    "for char in str:\n",
    "  print(char)\n",
    "\n",
    "# loop over the string and printing the each character of the string\n",
    "for index,char in enumerate(str):\n",
    "  if index&1==0:\n",
    "    print(f\"Index - {index}:{char}\")"
   ]
  },
  {
   "cell_type": "markdown",
   "metadata": {},
   "source": [
    "### Task 3: \n",
    "Create a list of integers and find the sum of all the elements. Then, print the even numbers from the list.\n",
    "Expected Input: Enter a list of integers separated by space: 1 2 3 4 5 6 7 8 9"
   ]
  },
  {
   "cell_type": "code",
   "execution_count": 8,
   "metadata": {},
   "outputs": [
    {
     "name": "stdout",
     "output_type": "stream",
     "text": [
      "55\n",
      "Number: 2\n",
      "Number: 4\n",
      "Number: 6\n",
      "Number: 8\n",
      "Number: 10\n"
     ]
    }
   ],
   "source": [
    "# Create a list of integer and sum up all the integer\n",
    "input_lst = input(\"Enter the list of integer separated by space\").split()\n",
    "sum = 0 \n",
    "for num in input_lst:\n",
    "  sum += int(num)\n",
    "print(sum)\n",
    "\n",
    "#Print the even number from the list  \n",
    "\n",
    "for num in input_lst:\n",
    "  if int(num)&1==0:\n",
    "    print(f\"Number: {int(num)}\")"
   ]
  },
  {
   "cell_type": "markdown",
   "metadata": {},
   "source": [
    "## Task 4: \n",
    "Create a tuple with five elements. Print the second element and check if a specific element (e.g., 3) exists in the tuple.Expected Input: Enter a tuple of integers separated by space: 10 20 30 40 50"
   ]
  },
  {
   "cell_type": "code",
   "execution_count": null,
   "metadata": {},
   "outputs": [
    {
     "name": "stdout",
     "output_type": "stream",
     "text": [
      "<class 'tuple'>\n",
      "22\n",
      "23 not exist in the tuple\n"
     ]
    }
   ],
   "source": [
    "# Task 4 \n",
    "new_tuple = tuple(input(\"Enter the tuple of integer separated by space\").split())\n",
    "element = int(input(\"Enter an integer number to check whether it exist in the tuple: \"))\n",
    "print(type(new_tuple))\n",
    "print(new_tuple[1])\n",
    "for value in new_tuple:\n",
    "  if int(value) == element:\n",
    "    print(f\"{element} exist in the tuple\")\n",
    "    break\n",
    "else:\n",
    "  print(f\"{element} not exist in the tuple\")"
   ]
  },
  {
   "cell_type": "markdown",
   "metadata": {},
   "source": [
    "### Task 5: \n",
    "Create a dictionary with three key-value pairs.\n",
    "Retrieve the value for a specific key and add a new key-value pair to the dictionary.\n",
    "Expected Input:\n",
    "Enter keys separated by space: name age city. \n",
    "Enter values separated by space: John 25 NewYork"
   ]
  },
  {
   "cell_type": "code",
   "execution_count": null,
   "metadata": {},
   "outputs": [
    {
     "name": "stdout",
     "output_type": "stream",
     "text": [
      "['rajan', '30', 'chennai']\n",
      "{'name': 'rajan', 'age': '30', 'city': 'chennai'}\n"
     ]
    }
   ],
   "source": [
    "# Task 5\n",
    "# creating a dictionary with 3 key value pair\n",
    "\n",
    "student = {\n",
    "  \"name\":\"Natraj\",\n",
    "  \"age\":30,\n",
    "  \"city\":\"Chennai\"\n",
    "}\n",
    "\n",
    "student_info = input(\"Enter your name ,age and city with separated by space: \").split()\n",
    "print(student_info)\n",
    "student_key = 0\n",
    "for (key ,value) in student.items():\n",
    "  student[key] = student_info[student_key].strip()\n",
    "  student_key +=1\n",
    "print(student)"
   ]
  },
  {
   "cell_type": "code",
   "execution_count": null,
   "metadata": {},
   "outputs": [],
   "source": []
  }
 ],
 "metadata": {
  "kernelspec": {
   "display_name": "Python 3",
   "language": "python",
   "name": "python3"
  },
  "language_info": {
   "codemirror_mode": {
    "name": "ipython",
    "version": 3
   },
   "file_extension": ".py",
   "mimetype": "text/x-python",
   "name": "python",
   "nbconvert_exporter": "python",
   "pygments_lexer": "ipython3",
   "version": "3.12.0"
  }
 },
 "nbformat": 4,
 "nbformat_minor": 2
}
