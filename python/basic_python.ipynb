{
 "cells": [
  {
   "cell_type": "markdown",
   "metadata": {},
   "source": [
    "# Python Learning through *Krish Naik* Course\n",
    "## Getting started with VS Code\n",
    "  - Git integrated \n",
    "  - CLI interaction\n",
    "  - Environment development - to manage the python packages for the python project..\n",
    "  - To create the environment we use the conda command > conda create -p venv python == 3.13.0 \n",
    "  - To activate the environment we must need to activate it by > conda activate venv/ \n",
    "  - lets work on our learning about the basic syntax and semantics\n",
    "## Python Basics - Syntax and Semantics \n",
    "  - Single and multi - line comment\n",
    "  - Definition of syntax and semantics\n",
    "  - Basic syntax rules in Python\n",
    "  - Understanding the semantics in Python\n",
    "  - Common syntax errors and How to avoid them.\n",
    "  - practical code examples \n",
    "  - Indentation - to define the block of code \n",
    "  - Line continuation\n",
    "### Comment: \n",
    "  - Comment is a notes that developers write in the code file to manifest what it really means to do for the others to understand the code easily. \n",
    "  - There are two types of comments we can use in the python. Single line comment and Multi line comment. \n",
    "  - Single line comment # Single line comment.\n",
    "  - Multi line comment '''Multiline comment'''.\n",
    "### Syntax:\n",
    "  Syntax refers to the set of rules that defines the combination of symbols that are considered to be correctly structure the programs in a language. In short, syntax is about the correct arrangement of words and symbols in a code. \n",
    "  - If we don't follow the right syntax, we will end up with errors. \n",
    "### Semantics:\n",
    "  - Semantics refers to the meaning or interpretation of the symbols, characters and commands in a language.It is about what the code is supposed to do when it runs. "
   ]
  },
  {
   "cell_type": "code",
   "execution_count": null,
   "metadata": {},
   "outputs": [
    {
     "name": "stdout",
     "output_type": "stream",
     "text": [
      "Natraj\n",
      "Natarajan\n"
     ]
    }
   ],
   "source": [
    "## Basic Syntax rules in the Python \n",
    "## Python is case sensitive  in nature. \n",
    "name = \"Natraj\"\n",
    "Name = \"Natarajan\"\n",
    "# name and Name refers the different variable \n",
    "print(name)\n",
    "print(Name)\n",
    "# So be careful and cautious about the syntax "
   ]
  },
  {
   "cell_type": "markdown",
   "metadata": {},
   "source": [
    "## Indentation:\n",
    "Indentation in python is used to define the structure and hierarchy of the code. wkt, Javascript and other lang uses the braces {} uses this to define the blocks. But in python we use the indentation for this structuring or to determine the grouping of the statements. This means that all the statements within the block are indented at the same level. \n"
   ]
  },
  {
   "cell_type": "code",
   "execution_count": null,
   "metadata": {},
   "outputs": [
    {
     "name": "stdout",
     "output_type": "stream",
     "text": [
      "Nitro's age is about:  32\n",
      "32\n"
     ]
    }
   ],
   "source": [
    "# Indentation:Python uses indentation to define the block of code. Consistent use of spaces (commonly 4) or tab is required\n",
    "age = 32\n",
    "if age > 30:\n",
    "  print(\"Nitro's age is about: \", age)\n",
    "print(age) "
   ]
  },
  {
   "cell_type": "code",
   "execution_count": null,
   "metadata": {},
   "outputs": [
    {
     "name": "stdout",
     "output_type": "stream",
     "text": [
      "Single line comment. this print statement is visible in the output. if i comment this statement, it wont be read by the interpreter.\n"
     ]
    }
   ],
   "source": [
    "# Single line comment: \n",
    "print(\"Single line comment. this print statement is visible in the output. if i comment this statement, it wont be read by the interpreter.\")\n",
    "# print(\"Nitro\") it never printed. because it is comment. "
   ]
  },
  {
   "cell_type": "code",
   "execution_count": null,
   "metadata": {},
   "outputs": [],
   "source": [
    "# Multi-line comment\n",
    "''' \n",
    "print(\"Multi line comment it is\")\n",
    "print(\"For a multiple line commenting,we can use this triple single quotes wrappping way)\n",
    "Multi line comment\n",
    "Nitro Natraj\n",
    "'''"
   ]
  },
  {
   "cell_type": "code",
   "execution_count": null,
   "metadata": {},
   "outputs": [
    {
     "name": "stdout",
     "output_type": "stream",
     "text": [
      "47\n"
     ]
    }
   ],
   "source": [
    "# Line continuation - To continue write the statement in the multiple line, \n",
    "# we can use the escape character \\ and continue the statemnt in multiple line\n",
    "sum = 12+10\\\n",
    "+25\n",
    "print(sum)\n"
   ]
  },
  {
   "cell_type": "code",
   "execution_count": 10,
   "metadata": {},
   "outputs": [
    {
     "name": "stdout",
     "output_type": "stream",
     "text": [
      "Kari Leelavathi Thanaraj\n"
     ]
    }
   ],
   "source": [
    "# Multiple statements in the single line\n",
    "bro = \"Kari\";mom=\"Leelavathi\";dad=\"Thanaraj\"\n",
    "print(bro,mom,dad)"
   ]
  },
  {
   "cell_type": "code",
   "execution_count": 13,
   "metadata": {},
   "outputs": [
    {
     "name": "stdout",
     "output_type": "stream",
     "text": [
      "Age:  18\n"
     ]
    }
   ],
   "source": [
    "# Understanding the semantics in the python \n",
    "# Variable assignment\n",
    "age = 18; # here reassign the age variable set to 18 from 32; \n",
    "print(\"Age: \", age)\n"
   ]
  },
  {
   "cell_type": "markdown",
   "metadata": {},
   "source": [
    "## Type Inference\n",
    "Type inference is a compiler's ability to automatically determine the type of a variable, function, or expression in a program. It's based on the program's structure and context. \n",
    "### How it works \n",
    "- Type inference can be done at compile time or runtime.\n",
    "- It can be used to assign types to variables, constants, and functions.\n",
    "- It can help detect type rule violations and report them during compilation."
   ]
  },
  {
   "cell_type": "code",
   "execution_count": 15,
   "metadata": {},
   "outputs": [
    {
     "name": "stdout",
     "output_type": "stream",
     "text": [
      "<class 'str'>\n",
      "<class 'int'>\n",
      "<class 'bool'>\n",
      "<class 'float'>\n"
     ]
    }
   ],
   "source": [
    "# Type inference\n",
    "print(type(name))\n",
    "print(type(age))\n",
    "print(type(True))\n",
    "print(type(4.75))"
   ]
  },
  {
   "cell_type": "markdown",
   "metadata": {},
   "source": [
    "Common Errors: \n",
    " - Syntax error \n",
    " - Name error\n",
    " - Indentation Error "
   ]
  },
  {
   "cell_type": "code",
   "execution_count": 40,
   "metadata": {},
   "outputs": [
    {
     "name": "stdout",
     "output_type": "stream",
     "text": [
      "<class 'int'>\n"
     ]
    }
   ],
   "source": [
    "# Name error example \n",
    "print(type(age))\n",
    "# a=b; -> Name Error \n"
   ]
  },
  {
   "cell_type": "code",
   "execution_count": 23,
   "metadata": {},
   "outputs": [
    {
     "name": "stdout",
     "output_type": "stream",
     "text": [
      "Name is called as Natarajan :  Block scope begins execution\n",
      "Block scope code ends\n",
      "Outer Scope code runs after the above block scope execution\n"
     ]
    }
   ],
   "source": [
    "if True:\n",
    "  print(\"Name is called as\", Name ,\": \", \"Block scope begins execution\")\n",
    "  if False:\n",
    "    print(\"False statement nested inside the if block\")\n",
    "  print(\"Block scope code ends\")\n",
    "print(\"Outer Scope code runs after the above block scope execution\")"
   ]
  },
  {
   "cell_type": "markdown",
   "metadata": {},
   "source": [
    "## Variables \n",
    "Variables are fundamental elements in the programming language used to store the data that can be referenced and manipulated in a program as per our needs. In python, variables are created when we assign the value to them, and they do not need an explicit declaration to reserve memory space. The declaration happen automatically when we assign the values to the variable. \n",
    "\n",
    "### Things we gonna see in this section: \n",
    "- Introduction to the variable\n",
    "- Declaration and Assigning variables\n",
    "- Naming conventions\n",
    "- Understanding variable types\n",
    "- Type checking and conversion \n",
    "- Dynamic typing \n",
    "- Practical examples and errors possibility while work with variable \n",
    "\n",
    "  "
   ]
  },
  {
   "cell_type": "code",
   "execution_count": 27,
   "metadata": {},
   "outputs": [
    {
     "name": "stdout",
     "output_type": "stream",
     "text": [
      "Data in the str_data:  String\n",
      "Data in the integer_data:  1\n",
      "Data in the bool_data:  True\n",
      "Data in the float_data:  4.6\n"
     ]
    }
   ],
   "source": [
    "# Variable Declaration - no need of data type specification while declaration \n",
    "num = 100;\n",
    "# num -> is a variable name is a name of the container and it contain the assigned value. \n",
    "# The value (here 100 is the value set to an variable num) get assigned to it by using the assignment operator \"=\" \n",
    "str_data = \"String\"\n",
    "integer_data = 1;\n",
    "bool_data = True;\n",
    "float_data = 4.6; \n",
    "\n",
    "# The data type of the variable gets recognized by reading the value type by the interpreter while runtime. \n",
    "# This is how we declare and assign value to the variable. \n",
    "\n",
    "# Printing the declared variable: \n",
    "# Print is the function we use to print the variable. \n",
    "print(\"Data in the str_data: \" , str_data)\n",
    "print(\"Data in the integer_data: \" , integer_data)\n",
    "print(\"Data in the bool_data: \" , bool_data)\n",
    "print(\"Data in the float_data: \" , float_data)\n",
    "\n"
   ]
  },
  {
   "cell_type": "markdown",
   "metadata": {},
   "source": [
    "### Naming convention for the variable while defining \n",
    "Rules and Best practices: \n",
    "  - No variable should start with symbols and number or symbols or reserved operator such as + - * & $, except _. It can start with the _ for separate the word if the variable contains multiple words. \n",
    "  - Variables names are descriptive in nature for the code readability.\n",
    "  - Variable names are case sensitive. "
   ]
  },
  {
   "cell_type": "code",
   "execution_count": 32,
   "metadata": {},
   "outputs": [],
   "source": [
    "# Variable valid names : \n",
    "first_name = \"Nitro\"\n",
    "_lastname = \"Natraj\"\n",
    "full_name = \"Nitro Natraj\"\n",
    "no_5 = 5;\n",
    "\n",
    "\n",
    "# Invalid variable names: \n",
    "# 2Age = 23; -> SyntaxError: invalid decimal literal\n",
    "# first-name = \"Name\" -> cannot assign to expression here. Maybe you meant '==' instead of '='?\n",
    "# $name = \"Nitro\" -> SyntaxError: invalid syntax\n"
   ]
  },
  {
   "cell_type": "code",
   "execution_count": null,
   "metadata": {},
   "outputs": [
    {
     "name": "stdout",
     "output_type": "stream",
     "text": [
      "<class 'int'>\n",
      "<class 'float'>\n",
      "<class 'str'>\n",
      "<class 'bool'>\n"
     ]
    }
   ],
   "source": [
    "# Understand Variable types:\n",
    "# Since the python is  dynamically typed, so it doesn't need an explicit variable data type declaration while variable defining. \n",
    "age =25 # during the runtime,python understand the value assigned to the variable is an integer type.\n",
    "height = 6.5; # float variable\n",
    "qualification = \"Enginner\" # string variable str \n",
    "is_he_major = True; # boolean variable it is \n",
    "\n",
    "# Type checking the variable using the type() \n",
    "# -> hence proved that the interpreter understand the type of variable by the value assigned to it.\n",
    "\n",
    "print(type(age))\n",
    "print(type(height))\n",
    "print(type(qualification))\n",
    "print(type(is_he_major))\n"
   ]
  },
  {
   "cell_type": "code",
   "execution_count": 51,
   "metadata": {},
   "outputs": [
    {
     "name": "stdout",
     "output_type": "stream",
     "text": [
      "<class 'int'>\n",
      "<class 'str'>\n",
      "<class 'float'>\n",
      "False <class 'bool'>\n"
     ]
    }
   ],
   "source": [
    "# Can we convert it into one data type to other data type? -> yes\n",
    "# Type conversion : \n",
    "age = 30;\n",
    "print(type(age));\n",
    "# so the type is : -> int \n",
    "age_str = str(age)\n",
    "print(type(age_str))\n",
    "# Now it gets converted into an string from the integer \n",
    "age_float = float(age_str)\n",
    "print(type(age_float))\n",
    "is_age = bool(\"\")\n",
    "print(is_age, type(is_age))\n",
    "# so we can convert the data type of the variable easily by passing the variable to the inbuilt function str(), int(), float(), bool(). \n",
    "# Thi is what we call it as type checking and type conversion.  \n",
    "# while converting the float to an int -> we may lose the decimal places -> so be causcios about that before conversion.\n"
   ]
  },
  {
   "cell_type": "code",
   "execution_count": null,
   "metadata": {},
   "outputs": [
    {
     "name": "stdout",
     "output_type": "stream",
     "text": [
      "10 <class 'int'>\n",
      "Hello <class 'str'>\n",
      "True <class 'bool'>\n",
      "3.3333 <class 'float'>\n"
     ]
    }
   ],
   "source": [
    "# Dynamically typed : The type of the variable gets changed to one to another data type without any error as we need. \n",
    "var = 10 # int variable \n",
    "print(var, type(var)) #  initially it is int variable.\n",
    "# Python allow the type of the variable to change as per the program goes. \n",
    "var = \"Hello\"\n",
    "print(var, type(var))\n",
    "\n",
    "var = True; \n",
    "print (var , type(var))\n",
    "\n",
    "var = 3.3333\n",
    "print(var, type(var))\n",
    "\n",
    "# So the variable type gets change as we insist to happen while we need that to happen "
   ]
  },
  {
   "cell_type": "code",
   "execution_count": null,
   "metadata": {},
   "outputs": [
    {
     "name": "stdout",
     "output_type": "stream",
     "text": [
      "75 <class 'str'>\n",
      "75 <class 'int'>\n",
      "Your are already enjoying the retired lfe, Happy Days ):- \n"
     ]
    }
   ],
   "source": [
    "# Input -> this is the function to get the input from the user through the input function\n",
    "user_input = input(\"What is your age?\")\n",
    "print(user_input, type(user_input))\n",
    "# we can able to change the data type of the user_input for our manipulation and processing the user_input data\n",
    "user_age = int(user_input)\n",
    "print(user_age, type(user_age))\n",
    "\n",
    "# By converting it into an integer, we can able to process it further like add something to user_age\n",
    "if user_age < 70:\n",
    "  print(\"Your are gonna retire in next \", 70-user_age , \"Years\")\n",
    "else:\n",
    "  print(\"Your are already enjoying the retired lfe, Happy Days ):- \")\n",
    "\n",
    "# In general, the input function return the values of user input in the string data format in default. \n",
    "# So we must have to handle it as per our need before we process it. "
   ]
  },
  {
   "cell_type": "code",
   "execution_count": null,
   "metadata": {},
   "outputs": [
    {
     "name": "stdout",
     "output_type": "stream",
     "text": [
      "Sum:  6.0\n",
      "Difference:  2.0\n",
      "Product:  8.0\n",
      "Division:  2.0\n",
      "Floor-division or Quotient with no decimal places: 2.0\n",
      "Exponentiation: 16.0\n",
      "Remainder:  0.0\n"
     ]
    }
   ],
   "source": [
    "# Calculator\n",
    "num1 = float(input(\"Type your first number\"))\n",
    "num2 = float(input(\"Type your second number\"))\n",
    "\n",
    "addition  = num1 + num2\n",
    "difference = num1 - num2\n",
    "multiply = num1 * num2\n",
    "division = num1 / num2\n",
    "quotient = num1 // num2\n",
    "exponential = num1 ** num2\n",
    "remainder = num1 % num2\n",
    "\n",
    "print(\"Sum: \" , addition)\n",
    "print(\"Difference: \" , difference)\n",
    "print(\"Product: \" , multiply)\n",
    "print(\"Division: \" , division)\n",
    "print(\"Floor-division or Quotient with no decimal places:\", quotient)\n",
    "print(\"Exponentiation:\" , exponential)\n",
    "print(\"Remainder: \", remainder)\n"
   ]
  },
  {
   "cell_type": "markdown",
   "metadata": {},
   "source": [
    "## Data Types:\n",
    "### Definition: \n",
    "- Data types are the classification of data which tell the compiler or interpreter how the programmer intend to use the data \n",
    "- They determine the type of operations that can be performed on the data, the values that the data can take and the amount of memory needed to store the data. \n",
    "### Importance of Data types in the Programming Languages:\n",
    "- Data types ensures the data is stored in an efficient way\n",
    "- They help in performing correct operation on data\n",
    "- Proper use of data types prevent us from the bugs and errors in the program.\n",
    "### Basic Data Types \n",
    "- Integer\n",
    "- Floating-point number\n",
    "- Strings\n",
    "- Boolean\n",
    "### Advanced Data Types\n",
    "- Lists\n",
    "- Tuples\n",
    "- Sets\n",
    "- Dictionaries "
   ]
  },
  {
   "cell_type": "code",
   "execution_count": 67,
   "metadata": {},
   "outputs": [
    {
     "name": "stdout",
     "output_type": "stream",
     "text": [
      "123 <class 'int'>\n",
      "25.369 <class 'float'>\n",
      "True <class 'bool'>\n",
      "Nitro Natarajan <class 'str'>\n"
     ]
    }
   ],
   "source": [
    "# Integer Example \n",
    "# we can assign an values to the variable by using the data type in built function what we use to convert the data types. \n",
    "count = int(123);\n",
    "print(count, type(count)) \n",
    "# Floating point number Example \n",
    "decimal = float(25.369);\n",
    "print(decimal,type(decimal)) \n",
    "# Boolean Type example\n",
    "is_null = bool(True);\n",
    "is_good = bool() # it is return the False in default if we dont specify the True or False into the function \n",
    "print(is_null, type(is_null))\n",
    "# String example \n",
    "name = str(\"Nitro Natarajan\")\n",
    "print(name, type(name))"
   ]
  },
  {
   "cell_type": "code",
   "execution_count": 73,
   "metadata": {},
   "outputs": [
    {
     "name": "stdout",
     "output_type": "stream",
     "text": [
      "Hello : Hi 5\n"
     ]
    }
   ],
   "source": [
    "# Common Errors\n",
    "result = \"Hello : Hi \" + str(5)  \n",
    "print(result)\n",
    "#->  concatenating string with the int will give an error. To prevent this error, we can convert the type of the 5 to str"
   ]
  },
  {
   "cell_type": "markdown",
   "metadata": {},
   "source": [
    "## Deep dive into the Operation/operator's In Python \n",
    "### Introduction to Operators\n",
    "### 1. Arithmetic Operators\n",
    "- Addition\n",
    "- Subtraction\n",
    "- Multiplication\n",
    "- Division\n",
    "- Floor division\n",
    "- Modulus\n",
    "- Exponentiation \n",
    "\n",
    "### 2. Comparision Operators\n",
    "- Double Equal to check == (equality check) \n",
    "- Not equal to != \n",
    "- Greater than > \n",
    "- Greater than or equal to >=\n",
    "- Lesser than < \n",
    "- Lesser than or equal to <= \n",
    "\n",
    "### 3. Logical Operator\n",
    "- AND\n",
    "- OR\n",
    "- NOT\n",
    "\n",
    "### 4. Assignment Operator\n",
    " =, +=,-=,*=,/=, **=, //=, %=, &=, !=, ^=, >>=, <<=, := \n",
    "\n",
    "### 5. Identity Operators\n",
    "- is \n",
    "- is not \n",
    "\n",
    "### 6. Membership operator \n",
    "- in \n",
    "- not in \n",
    "\n",
    "### 7. Bitwise operator\n",
    "- &     ========= Bitwise AND\n",
    "- |     ========= Bitwise OR\n",
    "- ^     ========= Bitwise NOR\n",
    "- ~     ========= Bitwise NOT\n",
    "- <<    ========= Left shift operator\n",
    "- \\>\\>  ========= Right shift operator\n"
   ]
  },
  {
   "cell_type": "markdown",
   "metadata": {},
   "source": [
    "Operators: \n",
    "  \n",
    "  For any operations like arithmetic, logical, assigning operations we do with the data of any format, we need an operators to calculate or determine the output by processing it with the operators like we do in the mathematics using the + - * % / etc..Here we will see all the available operators and its use cases in the below code. "
   ]
  },
  {
   "cell_type": "code",
   "execution_count": 150,
   "metadata": {},
   "outputs": [
    {
     "name": "stdout",
     "output_type": "stream",
     "text": [
      "Simple Calculator_application\n",
      "Addition:  11.0\n",
      "Subtraction:  -1.0\n",
      "Multiplication:  30.0\n",
      "Division:  0.8333333333333334\n",
      "floor_division:  0.0\n",
      "Modulus 5.0\n",
      "Exponentiation 15625.0\n"
     ]
    }
   ],
   "source": [
    "# Arithmetic Operation - to perform the operation we need at least two operand and one operator \n",
    "num1 = float(input(\"Enter the first number\"));num2= float(input(\"Enter the second number\"))\n",
    "add_result = num1 + num2 # addition generally add two int or float values together and return it. we save it and use it further. \n",
    "difference_result = num1 - num2 # subtraction, we determine the difference between the two int or float values. \n",
    "product_result = num1 * num2 # multiplication\n",
    "division_result = num1 / num2 # it divide and return the result in decimal or float value.\n",
    "floor_div_result = num1 // num2 # it floor division, generally it return the quotient without the decimal places. \n",
    "modulus_result = num1 % num2 # it return the remainder after the division.\n",
    "exponential_result = num1**num2 # it perform the exponential operation a^b in the mathematics. \n",
    "print(\"Simple Calculator_application\")\n",
    "print(\"Addition: \",add_result) \n",
    "print(\"Subtraction: \",difference_result)\n",
    "print(\"Multiplication: \",product_result)\n",
    "print(\"Division: \", division_result)\n",
    "print(\"floor_division: \",floor_div_result)\n",
    "print(\"Modulus\",modulus_result)\n",
    "print(\"Exponentiation\",exponential_result)\n"
   ]
  },
  {
   "cell_type": "code",
   "execution_count": null,
   "metadata": {},
   "outputs": [],
   "source": [
    "# comparision operators\n",
    "# == double equal to == operator to compare two operands and it return True or False. \n",
    "a = 10;b=20\n",
    "print(a==b) # it compare the value of a and b, it gives True if they both contains the same value\n",
    "print(10 == 10) # Its true. Because they both have same value \n",
    "print(10 == \"10\") # Here 10 - str(10) is not same as the 10. we it returns False. \n",
    "print(\"Krish\" == \"krish\") # it return the false because the both operands are not same. \n",
    "print(a+5 == b-5) # it return true because a+5 = 15, b-5 = 15 and then compare with ==, so it end up with true.\n",
    "\n",
    "# not qual to != which check the both operands are not equal to each other.If not equal then it return True, otherwise False.\n",
    "print(a != b) # return true because 10 not equal to 20.. \n",
    "print(10 != 10) #return false because 10 is equal to 10.\n",
    "print(\"Krish\" != \"krish\") # return true.\n",
    "\n",
    "# greater than or greater than or equal to, by which we can compare two values a > b, if yes -> true otherwise it is false \n",
    "print(\"is a greater than b? : \", a>b)\n",
    "print(\"is 6 is greater than or equal to 4? \" , 6>=4)\n",
    "\n",
    "# lesser than or less than or equal to, by which we can compare two values a < b, if yes -> true otherwise it is false \n",
    "print(\"is a less than b? : \", a<b)\n",
    "print(\"is 6 is less than or equal to 4? \" , 6<=4)\n",
    "\n",
    "## Assignment Operator \n",
    "\n",
    "id_no = 10\n",
    "roll_num = id_no\n",
    "print(\"id_no : \", id_no ,\", Roll_num\", roll_num , \"while check its quality, it gives : \" , id_no == roll_num)\n",
    "\n",
    "# if we wanted to increase the id by 1. what we can do now? 1 st way id_no = 10+1; or reassign it by id_no = 11; \n",
    "# to increment/add the int or float variable by some value then we can use += means x += 2 means x = x + 2\n",
    "id_no += 1; # this means the exist id_no values get increased by one if we check its value now, it will be 11.\n",
    "print(\"id_no added by 1: \",id_no) #same way, it works with other operators. - * / // ** % \n",
    "id_no -= 1 \n",
    "print(\"id_no subtracted by 1: \",id_no)\n",
    "id_no *=2\n",
    "print(\"id_no multiplied by 2: \", id_no)\n",
    "id_no /= 5\n",
    "print(\"id_no divided by 5: \",id_no)\n",
    "id_no //=3\n",
    "print(\"id_no floor divided by 3: \",id_no)\n",
    "id_no **= 3\n",
    "print(\"id_no exponent by 3: \",id_no)\n",
    "id_no %= 2\n",
    "print(\"id_no modulus by 2: \",id_no)\n",
    "roll_num &= 2\n",
    "print(\"roll_num |= 2 -> gives \", roll_num)\n",
    "roll_num |= 1\n",
    "print(\"roll_num |= 2 -> gives \", roll_num)\n",
    "roll_num ^= 1\n",
    "print(\"roll_num ^= 2 -> gives \", roll_num)\n",
    "roll_num <<= 2\n",
    "print(\"left shift by  2: \", roll_num)\n",
    "roll_num >>= 2\n",
    "print(\"Right shift by  2: \", roll_num)"
   ]
  },
  {
   "cell_type": "markdown",
   "metadata": {},
   "source": [
    "**Truth table for AND , OR**  \n",
    "\n",
    "| P\t| Q\t| AND | OR  | \n",
    "|---|---|-----|-----|\n",
    "| T\t| T |\tT   |\t T  |\t\n",
    "| T\t| F\t| F\t  |  T\t|\n",
    "| F\t| T |\tF  \t|  T\t|\n",
    "| F\t| F |\tF   |\t F  |\n",
    "\n",
    "\n",
    "**Truth table for NOT**\n",
    "\n",
    "| P | NOT |\n",
    "|---|-----|\n",
    "| T | F   |\n",
    "| F | T   |"
   ]
  },
  {
   "cell_type": "code",
   "execution_count": null,
   "metadata": {},
   "outputs": [
    {
     "name": "stdout",
     "output_type": "stream",
     "text": [
      "num is 10 >= num >=20 ? -> True\n",
      "He/She is allowed into the pub.\n",
      "False\n",
      "True\n",
      "True\n"
     ]
    }
   ],
   "source": [
    "# Logical Operator \n",
    "# AND is widely used to combine two condition where if all the given conditions becomes true, so that something has to be done \n",
    "num =10\n",
    "if num >= 10 and num <=20:\n",
    "  print(\"num is 10 >= num >=20 ? ->\", (num >= 10 and num <=20))\n",
    "else:\n",
    "  print(\"num is 10 >= num >=20 ? ->\", False)\n",
    "\n",
    "# OR is a logical operator which used in a place where any one of the condition met in the condition set, \n",
    "# then it has allow the block of code to execute\n",
    "\n",
    "age = 18; badge = \"9\"\n",
    "if age >=18 or badge == \"a\" or badge == \"A\":\n",
    "  print(\"He/She is allowed into the pub.\")\n",
    "else:\n",
    "  print(\"Wait until your age become 18 or get your valid A badge\")\n",
    "\n",
    "# NOT logical operator \n",
    "# it needs only one operand and it turns the True to False and False become True. \n",
    "print(not age)\n",
    "print(not False)\n",
    "print(not 0)"
   ]
  },
  {
   "cell_type": "markdown",
   "metadata": {},
   "source": [
    "## Membership Operator:\n",
    "\n",
    "Membership operators in Python, in and not in, are primarily used to test if a value or variable is present in a sequence (e.g., string, list, tuple, set, dictionary). They return a boolean value (True or False) based on the presence or absence of the element. Checking for element existence. \n",
    "\n",
    "- in \n",
    "- not in \n"
   ]
  },
  {
   "cell_type": "code",
   "execution_count": null,
   "metadata": {},
   "outputs": [
    {
     "name": "stdout",
     "output_type": "stream",
     "text": [
      "15\n",
      "3 is present in the list\n",
      "e is present in the string\n",
      "40 is not present in the tuple\n",
      "100 is present in the set\n",
      "200 is present in the set\n",
      "key 'b' is present\n",
      "value 2 is present\n"
     ]
    }
   ],
   "source": [
    "# Checking for element existence. \n",
    "str = \"Nitro Natarajan\"\n",
    "print(len(str))\n",
    "if \"z\" in str:\n",
    "  print(\"Yes.. a exist in the above string : \", str)\n",
    "\n",
    "my_list = [1, 2, 3, 4, 5]\n",
    "if 3 in my_list:\n",
    "  print(\"3 is present in the list\")\n",
    "\n",
    "my_string = \"hello\"\n",
    "if \"e\" in my_string:\n",
    "  print(\"e is present in the string\")\n",
    "\n",
    "# Checking for element absence.\n",
    "my_tuple = (10, 20, 30)\n",
    "if 40 not in my_tuple:\n",
    "  print(\"40 is not present in the tuple\")\n",
    "\n",
    "# Iterating through sequences and conditional checks.\n",
    "my_set = {100, 200, 300}\n",
    "for item in range(201):\n",
    "  if item in my_set:\n",
    "    print(f\"{item} is present in the set\")\n",
    "\n",
    "# Dictionary key or value existence.\n",
    "my_dict = {\"a\": 1, \"b\": 2, \"c\": 3}\n",
    "if \"b\" in my_dict:\n",
    "  print(\"key 'b' is present\")\n",
    "if 2 in my_dict.values():\n",
    "  print(\"value 2 is present\")\n",
    "\n",
    "# String substring check.\n",
    "text = \"This is a sample string\"\n",
    "if \"sample\" in text:\n",
    "  print(\"'sample' is a substring of text\")"
   ]
  },
  {
   "cell_type": "markdown",
   "metadata": {},
   "source": [
    "Membership operators offer a concise and efficient way to check for the presence of an element in a sequence, avoiding the need for explicit loops in many cases."
   ]
  },
  {
   "cell_type": "code",
   "execution_count": 170,
   "metadata": {},
   "outputs": [
    {
     "name": "stdout",
     "output_type": "stream",
     "text": [
      "3 is present\n",
      "3 is present\n"
     ]
    }
   ],
   "source": [
    "my_list = [1, 2, 3, 4, 5]\n",
    "    \n",
    "# Without membership operator (less efficient)\n",
    "found = False\n",
    "for item in my_list:\n",
    "  if item == 3:\n",
    "    found = True\n",
    "    break\n",
    "if found:\n",
    "    print(\"3 is present\")\n",
    "    \n",
    "# With membership operator (more efficient)\n",
    "if 3 in my_list:\n",
    "  print(\"3 is present\")"
   ]
  },
  {
   "cell_type": "markdown",
   "metadata": {},
   "source": [
    "### Identity Operator\n",
    "Identity operators in Python, is and is not, are used to compare the memory locations of two objects. They determine if two variables refer to the exact same object in memory, not just if their values are equal.\n",
    "\n",
    "**Checking for object identity:**\n",
    "When it's crucial to verify that two variables point to the same object, identity operators are used. This is different from checking for equality using ==, which only compares the values of the objects.\n",
    "\n",
    "**Comparing with singletons:**\n",
    "Identity operators are often used when working with singletons or when ensuring that a variable refers to a specific, unique instance of an object.\n",
    "\n",
    "**Optimizing performance:**\n",
    "Identity checks can be faster than equality checks, especially for complex objects, as they only compare memory addresses.\n",
    "\n",
    "**Debugging:**\n",
    "Identity operators can be helpful in debugging to track object references and identify unexpected object sharing.\n",
    "\n",
    "**Working with classes:**\n",
    "When dealing with classes and instances, identity operators can be used to determine if two variables refer to the same instance."
   ]
  },
  {
   "cell_type": "code",
   "execution_count": 171,
   "metadata": {},
   "outputs": [
    {
     "name": "stdout",
     "output_type": "stream",
     "text": [
      "True\n",
      "False\n",
      "True\n"
     ]
    }
   ],
   "source": [
    "a = [1, 2, 3]\n",
    "b = a\n",
    "c = [1, 2, 3]\n",
    "\n",
    "print(a is b)  # Output: True (a and b refer to the same object)\n",
    "print(a is c)  # Output: False (a and c are different objects, even with the same value)\n",
    "print(a == c)  # Output: True (a and c have the same value)"
   ]
  },
  {
   "cell_type": "code",
   "execution_count": null,
   "metadata": {},
   "outputs": [
    {
     "name": "stdout",
     "output_type": "stream",
     "text": [
      "The given number : 3 is Odd\n",
      "2 ^ 20 :-> 1048576\n"
     ]
    }
   ],
   "source": [
    "\n",
    "# Application of bit wise operator \n",
    "# to check the given number is odd or even\n",
    "num = 3\n",
    "if num != 0 and (num & 1) == 0:\n",
    "  print(f\"The given number : {num} is Even\")\n",
    "elif num != 0 and (num & 1) == 1:\n",
    "  print(f\"The given number : {num} is Odd\") \n",
    "else:\n",
    "  print(\"Neither odd or nor even it is.. 0 - Zero it is\")\n",
    "\n",
    "# to find out the power of 2 by using left shift and right shift operator\n",
    "power = 20\n",
    "# 2^b => 1<<b = 1.2^b\n",
    "result = 1<<power\n",
    "print(\"2 ^\",power,\":->\",result)\n"
   ]
  },
  {
   "cell_type": "markdown",
   "metadata": {},
   "source": [
    "### Control flow:\n",
    "- Conditional statements\n",
    "- Looping \n",
    "\n",
    "#### Conditional statements: \n",
    "  Sometimes, we may need to execute some blocks of code based on the conditions we apply. In that case, we use this conditional statements."
   ]
  },
  {
   "cell_type": "code",
   "execution_count": null,
   "metadata": {},
   "outputs": [],
   "source": [
    "# conditional statements \n",
    "# sometimes, we may need to execute some blocks of code based on the conditions we apply. In that case, we use this conditional statements.\n",
    "# if condition :\n",
    "    # blocks of code if the condition satisfied \n",
    "# elif condition:\n",
    "    # blocks of code to execute if the elif condition satisfied\n",
    "# else : \n",
    "    # this block of code executed when the if and elif condition fails\n",
    "\n",
    "# eg:1\n",
    "age = 17\n",
    "if age >=18:\n",
    "  print(\"Yes you are eligible to vote ):- \")\n",
    "else:\n",
    "  print(18 - age, \" years still you need to wait to get the voting rights.\")\n",
    "\n",
    "# eg:2\n",
    "age = 20\n",
    "if age < 13 :\n",
    "  print(\"You are child\")\n",
    "elif age <18 :\n",
    "  print(\"You are teenager\")\n",
    "else :\n",
    "  print(\"You are an adult\")\n",
    "\n",
    "# nested conditional statements\n",
    "num = int(input(\"Enter the number\"))\n",
    "\n",
    "if num>0:\n",
    "  print(\"The number is positive\")\n",
    "  if num & 1 == 0:\n",
    "    print(f\"{num} is even\")\n",
    "  else:\n",
    "    print(f\"{num} is odd\")\n",
    "elif num == 0:\n",
    "  print(\"The entered number is zero.\")\n",
    "else:\n",
    "  print(\"The number is negative number\") \n",
    "  if -num & 1 == 0:\n",
    "    print(f\"{num} is even\")\n",
    "  else:\n",
    "    print(f\"{num} is odd\")\n",
    "\n",
    "\n",
    "# Determine if a year is a leap year using the nested conditional statements.\n",
    "# This is how the Gregorian calendar calculates leap years: If the year is divisible by four, it's a leap year. \n",
    "# But if the year can be divided by 100 as well as four, it's not a leap year.\n",
    "# However, if the year is divisible by 400, it is a leap year.\n",
    "\n",
    "year = int(input(\"Enter the year\")) \n",
    "\n",
    "if year > 0:\n",
    "  if year%4 == 0:\n",
    "    if year%100 == 0:\n",
    "      if year%400 == 0:\n",
    "        print(f\"{year} is a leap year\")\n",
    "      else:\n",
    "        print(f\"{year} is not a leap year\")\n",
    "    else:\n",
    "      print(f\"{year} is a leap year\")\n",
    "  else:\n",
    "    print(f\"{year} is not a leap year\")\n",
    "else:\n",
    "  print(\"Invalid year input\")"
   ]
  },
  {
   "cell_type": "code",
   "execution_count": 200,
   "metadata": {},
   "outputs": [
    {
     "name": "stdout",
     "output_type": "stream",
     "text": [
      "0.256198347107438\n",
      "Ticket Price :  $18\n"
     ]
    }
   ],
   "source": [
    "# Assignment \n",
    "# Assignment 1 : Calculator \n",
    "operand1 = float(input(\"Enter your first num : \"))\n",
    "operand2 = float(input(\"Enter your second num : \"))\n",
    "operation = input(\"Enter any the operation like + - * / % // ** \")\n",
    "if operation == \"+\":\n",
    "  result = operand1 + operand2\n",
    "elif operation == \"-\":\n",
    "  result = operand1 - operand2\n",
    "elif operation == \"*\":\n",
    "  result = operand1 * operand2\n",
    "elif operation == \"/\":\n",
    "  result = operand1 / operand2\n",
    "elif operation == \"//\":\n",
    "  result = operand1 // operand2\n",
    "elif operation == \"%\":\n",
    "  result = operand1 % operand2\n",
    "else:\n",
    "  result = operand1 ** operand2\n",
    "print(result)\n",
    "\n",
    "#Assignment 2: determine the ticket price based on their age and whether the person is student.\n",
    "# Ticket pricing based on their age and student status\n",
    "\n",
    "age = int(input(\"Enter your age in integer: \"))\n",
    "is_student = input(\"Are you an student? (yes / no) \").lower()\n",
    "\n",
    "if age < 5 :\n",
    "  price = \"Free\"\n",
    "elif age <= 12:\n",
    "  price = \"$10\"\n",
    "elif age <= 17:\n",
    "  if is_student == \"yes\":\n",
    "    price = \"$12\"\n",
    "  else:\n",
    "    price = \"$15\"\n",
    "elif age <= 64:\n",
    "  if is_student == \"yes\":\n",
    "    price = \"$18\"\n",
    "  else:\n",
    "    price = \"$25\"\n",
    "else:\n",
    "  price = \"$20\"\n",
    "print(\"Ticket Price : \" , price)"
   ]
  },
  {
   "cell_type": "markdown",
   "metadata": {},
   "source": [
    "### Looping statements\n",
    "#### what we gonna see: \n",
    "  - Introduction to looping\n",
    "  - FOR Looping\n",
    "    - Iterating over a range\n",
    "    - Iterating over a string\n",
    "  - WHILE loop\n",
    "  - Loop control statements\n",
    "    - break \n",
    "    - continue\n",
    "    - pass\n",
    "  - Nested Loops\n",
    "  - practical examples and common error's\n",
    "\n",
    "#### Introduction to looping: \n",
    "  Looping in Python refers to the repeated execution of a block of code. This is a fundamental concept in programming, allowing for automation of repetitive tasks. Python provides two primary types of loops: for loops and while loops.\n",
    " \n",
    "**For loop:**\n",
    "- Iterates over a sequence (such as a list, tuple, string, or range) or other iterable objects.\n",
    "- Executes the loop body for each item in the sequence.\n",
    "- The loop terminates when all items in the sequence have been processed.\n",
    "\n",
    "```py\n",
    "for i in range(5):\n",
    "  print(i)  # Output: 0 1 2 3 4\n",
    "```\n",
    "\n",
    "**While loop:**\n",
    "- Repeatedly executes a block of code as long as a specified condition is true.\n",
    "- The condition is evaluated before each iteration.\n",
    "- If the condition is initially false, the loop body will not execute at all.\n",
    "- It is crucial to ensure that the condition eventually becomes false to avoid an infinite loop.\n",
    "\n",
    "```py\n",
    "count = 0\n",
    "  while count < 5:\n",
    "    print(count)\n",
    "      count += 1\n",
    "\n",
    "# Output: 0 1 2 3 4  \n",
    "```\n",
    "\n",
    "**Loop Control Statements:**\n",
    "- **break**: Immediately terminates the loop and jumps to the statement following the loop. \n",
    "- **continue**: Skips the rest of the current iteration and proceeds to the next iteration of the loop.\n",
    "- **else**: Can be used with loops (specifically for and while loops) to execute a block of code after the loop has completed, but only if the loop was not terminated by a break statement.\n",
    "\n",
    "**Nested Loops**:\n",
    "- It is possible to nest loops within other loops, creating a loop inside another loop.\n",
    "- The inner loop will execute completely for each iteration of the outer loop.\n",
    "- Nested loops are useful for tasks such as processing multi-dimensional data structures.\n",
    "\n",
    "```py\n",
    "    for i in range(3):\n",
    "        for j in range(2):\n",
    "            print(i, j)\n",
    "    # Output:\n",
    "    # 0 0\n",
    "    # 0 1\n",
    "    # 1 0\n",
    "    # 1 1\n",
    "    # 2 0\n",
    "    # 2 1\n",
    "\n",
    "```"
   ]
  },
  {
   "cell_type": "code",
   "execution_count": null,
   "metadata": {},
   "outputs": [],
   "source": [
    "for letter in \"Nitro\":\n",
    "  if letter == letter.upper():\n",
    "    print(letter, \" :Its the only upper case letter in the given name\")\n",
    "\n",
    "for i in range(5):\n",
    "  if i & 1 == 0:\n",
    "    print(i , \"Even within the range 0 to 5\")\n",
    "\n",
    "for age in range(1, 10, 1):\n",
    "  print(age)\n",
    "\n",
    "for age in range(1, 10, 2):\n",
    "  print(age)\n",
    "\n",
    "for age in range(10, 1, -1):\n",
    "  print(age)\n",
    "\n",
    "for i in \"Natarajan\":\n",
    "  print(i)"
   ]
  },
  {
   "cell_type": "code",
   "execution_count": null,
   "metadata": {},
   "outputs": [],
   "source": [
    "# WHILE LOOP:\n",
    "# The while loop continues to execute the block of code as long as the condition is true\n",
    "\n",
    "count = 0; \n",
    "while count < 5:\n",
    "  print(count)\n",
    "  count += 1\n",
    "  # count +1 = 1 we are incrementing the count, so that count values get change in every iteration, \n",
    "  # so that it possibly fail in some iteration. \n",
    "  # Otherwise this loops seems like infinite loop which we need to avoid.\n",
    "  # Every time we write a loop, make sure that the loop wont become an infinite loop. It crash the code.  "
   ]
  },
  {
   "cell_type": "code",
   "execution_count": null,
   "metadata": {},
   "outputs": [],
   "source": [
    "# Loop control statements\n",
    "# break: it would exit the loop prematurely.\n",
    "for i in range(10):\n",
    "  if i == 5:\n",
    "    break\n",
    "  print(i)"
   ]
  },
  {
   "cell_type": "code",
   "execution_count": null,
   "metadata": {},
   "outputs": [],
   "source": [
    "# continue : it would skip the current iteraton and continue to run from the next iteration\n",
    "\n",
    "for i in range(10):\n",
    "  if i & 1 == 0 :\n",
    "    continue\n",
    "  print(i)"
   ]
  },
  {
   "cell_type": "code",
   "execution_count": null,
   "metadata": {},
   "outputs": [],
   "source": [
    "# pass: The pass statement is the nul operation, it does nothing.\n",
    "# The pass statement in Python serves as a null operation or a placeholder. \n",
    "# It is used in situations where syntactically some code is required, but no action needs to be performed.\n",
    "#  This is useful in several scenarios: \n",
    "\n",
    "# Empty code blocks: \n",
    "# Python requires code blocks (e.g., within loops,conditional statements, function \n",
    "# definitions, or class definitions)to have content. pass allows one to define \n",
    "# these blocks without implementing any code yet.\n",
    "for i in range(5):\n",
    "  if i == 3:\n",
    "    pass\n",
    "  else:\n",
    "     print(i)\n",
    "\n",
    "if True:\n",
    "    pass  # Implement logic later\n",
    "else:\n",
    "    print(\"Condition is false\")\n",
    "\n",
    "def my_function():\n",
    "    pass  # Function body will be added later"
   ]
  },
  {
   "cell_type": "code",
   "execution_count": null,
   "metadata": {},
   "outputs": [],
   "source": [
    "# Nested loops: Loop inside a loop \n",
    "for i in range(3):\n",
    "  for j in range(3):\n",
    "    print(f\"i: {i} and j : {j}\")"
   ]
  },
  {
   "cell_type": "code",
   "execution_count": null,
   "metadata": {},
   "outputs": [],
   "source": [
    "# Eg: Calculate the sum of the n natural number using the while and for loop:\n",
    "n = int(input(\"Enter the \\\"N\\\" integer value?\"))\n",
    "sum=0\n",
    "# Using while loop:\n",
    "while n>0:\n",
    "  sum += n\n",
    "  n = n-1\n",
    "print(\"WHILE Loop : SUM ->\", sum)\n",
    "\n",
    "# using for loop: \n",
    "for i in range(1,n+1,1):\n",
    "  sum += i\n",
    "print(\"FOR Loop : SUM ->\", sum)\n",
    "\n",
    "for i in range(1,6):\n",
    "  print(i)"
   ]
  },
  {
   "cell_type": "code",
   "execution_count": null,
   "metadata": {},
   "outputs": [],
   "source": [
    "# Prime numbers between 1 and 100 \n",
    "\n",
    "for num in range(1,101):\n",
    "  if num>1:\n",
    "    for i in range(2,num):\n",
    "      if num%i == 0:\n",
    "        break\n",
    "    else:\n",
    "      print(num)"
   ]
  },
  {
   "cell_type": "markdown",
   "metadata": {},
   "source": [
    "#### Conclusion: \n",
    "Loops are powerful constructs in python that allow us to execute a block of code multiple times. Buy understanding and using for and while loops, along with loop control statements like break, continue, and pass, we can handle a wide range of programming task easily. "
   ]
  },
  {
   "cell_type": "markdown",
   "metadata": {},
   "source": [
    "### In-built Data structures in Python.\n",
    "Most common data structures in pythons are **list, sets, tuples, dictionaries.** we will see one by one and learn about where we can use these data structures to solve the problems and do the programming task. "
   ]
  },
  {
   "cell_type": "markdown",
   "metadata": {},
   "source": [
    "##### Introduction to Lists: \n",
    "  - List are **ordered, mutable collection of items.** - Property 1\n",
    "  - They can **contains items of different data types.** - Property 2\n",
    "  \n",
    "##### what we gonna see...\n",
    "  - Introduction to lists \n",
    "  - Creating the lists \n",
    "  - Accessing the lists \n",
    "  - Modifying the lists\n",
    "  - List Methods\n",
    "  - Slicing Lists\n",
    "  - Iterating over the Lists using the loops\n",
    "  - List comprehensions\n",
    "  - Nested Lists\n",
    "  - Practical Examples and Common Errors"
   ]
  },
  {
   "cell_type": "code",
   "execution_count": null,
   "metadata": {},
   "outputs": [],
   "source": [
    "# to create a list \n",
    "list1 = []\n",
    "list2 = list([1,2,3])\n",
    "# print(type(list1))\n",
    "# print(type(list2))\n",
    "\n",
    "# lets create the list \n",
    "list_example = [\"Natraj\", \"Nitro\", \"Astu\", \"Devi\", \"Kumar\"]\n",
    "print( \"List_example: \", list_example)\n",
    "\n",
    "# lets create a mixed list \n",
    "list3 = [\"Natraj\", True, 30, 167.5]\n",
    "print(\"Mixed List: \", list3)\n",
    "\n",
    "# Accessing the list elements or items\n",
    "fruits = [\"Apple\", \"Orange\", \"Banana\",\"Melon\",\"Pomegranate\",\"Gauva\", \"grapes\"]\n",
    "print(fruits[0])\n",
    "print(fruits[-1])\n",
    "print(fruits[1:5])\n",
    "print(type(fruits[0]))\n",
    "print(fruits[0:4]) # it gives 0th,1st,2nd,3rd items only not the 4th index value\n",
    "print(fruits[1:]) # it gives all the elements from the i1st index to last index \n",
    "print(fruits[1::2]) # it gives 1st index value and 3rd, 5th and 7th index and return the collection as list \n",
    "# lists are indexing in nature, so we can access the items through respective index of the items.\n",
    "# Index starts from 0 10 n.   \n",
    "# 0 is assigned to the fist element, in the 1st index of list have the 2nd element. \n",
    "# [start:stop:step] this way we can able to mention what we need to get. \n",
    "# [:stop:step] -> here start value is assumed as 0 \n",
    "# [start::step]-> stop value not mention, so it assumes stop value is the last index\n",
    "# Negative indexing also possible -1 means the last element, -2 index means the 2nd to the last element. \n",
    "\n",
    "# To access the last element :\n",
    "print(fruits[-1]) # it gives the last element in the list \n",
    "print(len(fruits)) # it gives the length of the list means the no of elements in the list \n",
    "print(fruits[len(fruits)-1]) # this way also we can access the last element in the list\n",
    "\n",
    "\n",
    "# Modifying the List element \n",
    "fruits[0] = \"Apples\"\n",
    "print(fruits, fruits[0])\n",
    "list2[2:]=\"Nitro\"\n",
    "print(list2)\n",
    "fruits[2:3] = [\"Cheery\", \"Berry\", \"Mango\",\"Jackfruit\"]\n",
    "print(fruits)\n"
   ]
  },
  {
   "cell_type": "code",
   "execution_count": null,
   "metadata": {},
   "outputs": [],
   "source": [
    "# list methods \n",
    "fruits = [\"Apple\", \"Orange\", \"Banana\"]\n",
    "\n",
    "# it add the items in the end \n",
    "fruits.append(\"Cherry\") \n",
    "print(fruits)\n",
    "\n",
    "# to insert the element at the specific index\n",
    "fruits.insert(1, \"Jackfruit\") \n",
    "print(fruits)\n",
    "\n",
    "# this will remove the first occurance of that specified item in the list, but not all\n",
    "fruits.remove(\"Jackfruit\") \n",
    "print(fruits)\n",
    "\n",
    " # it just pop/remove the last element from the list (last in first out) and return the removed item. \n",
    "last_element = fruits.pop()\n",
    "print(last_element)\n",
    "print(fruits)\n",
    "\n",
    "fruits.append(\"Jackfruit\")\n",
    "fruits.pop()\n",
    "print(fruits)\n",
    "\n",
    "# it will return the count of specified item\n",
    "print(fruits.count(\"Jackfruit\")) \n",
    "print(fruits.count(\"Apple\"))\n",
    "\n",
    " # it will return the index of the specified element \n",
    "print(fruits.index(\"Apple\"))\n",
    "\n",
    "# it sort all the elements inside the list in an ascending order\n",
    "fruits.sort() \n",
    "print(fruits)\n",
    "\n",
    "# it reverse the order of the list items\n",
    "# it we want to sort the fruits items in descending, we can sort it and reverse it simply\n",
    "fruits.reverse() \n",
    "print(fruits) \n",
    "\n",
    "# it will remove the elements from the list\n",
    "fruits.clear()  \n",
    "print(fruits)\n",
    "\n",
    "# Using extend to add elements from another list\n",
    "original_list = [1, 2, 3]\n",
    "new_list = original_list\n",
    "print(\"Check : \", original_list == new_list)\n",
    "new_list.extend([4, 5])  \n",
    "print(original_list) \n",
    "\n",
    "# Output: [1, 2, 3, 4, 5] (original list is modified)\n",
    "\n",
    "# Using copy to create a separate copy\n",
    "copy_list = original_list.copy()\n",
    "print(\"Check : \", original_list == copy_list)\n",
    "copy_list.append(6) \n",
    "print(original_list)  # Output: [1, 2, 3, 4, 5] (original list is unchanged)\n",
    "print(copy_list)    # Output: [1, 2, 3, 4, 5, 6] \n"
   ]
  },
  {
   "cell_type": "code",
   "execution_count": null,
   "metadata": {},
   "outputs": [],
   "source": [
    "# Slicing Lists\n",
    "numbers = [1,2,3,4,5,6,7,8,9,10]\n",
    "print(\"[1:]\", numbers[1:])\n",
    "print(\"[1::1]\",numbers[1::1])\n",
    "print(\"[ :5:2]\",numbers[:5:2])\n",
    "print(\"[::2]\",numbers[::2])\n",
    "print(\"[::-1]\",numbers[::-1])\n",
    "print(\"[::-1]\",numbers[::-2])\n",
    "print(\"[::]\",numbers[::])\n",
    "print(\"[::1]\",numbers[::1])\n",
    "print(\"[2:5:3]\",numbers[2:5:3])\n",
    "print(\"[2:5]\",numbers[2:5])"
   ]
  },
  {
   "cell_type": "code",
   "execution_count": null,
   "metadata": {},
   "outputs": [],
   "source": [
    "# Iterate over the list through loop \n",
    "\n",
    "for num in numbers:\n",
    "  print(num)\n",
    "\n",
    "# Note: enumerate(list) will help us to iterate over the list elements along with the index \n",
    "for index,num in enumerate(numbers):\n",
    "  print(\"Index:\", index ,\" Number :\" , num)\n"
   ]
  },
  {
   "cell_type": "markdown",
   "metadata": {},
   "source": [
    "#### List comprehension:\n",
    "- List comprehension in Python provides a concise way to create lists based on existing iterables.\n",
    "- It offers a more readable and often more efficient alternative to using traditional for loops for list creation.\n",
    "- By the above code, i had created the li list with the [0, 1, 4, 9, 16, 25, 36, 49, 64, 81]\n",
    "- Instead we can do it in a simpler way using the list comprehension.\n",
    "- Multiple for loops and if conditions can be combined for more complex list creations. \n",
    "- However, it is recommended to keep list comprehensions relatively simple for readability. \n",
    "- For very complex logic, traditional for loops might be more appropriate.\n",
    "\n",
    "- The basic syntax of list comprehension is:\n",
    "```py  \n",
    "    new_list = [expression for item in iterable if condition]\n",
    "    Nested_list_comprehension = [expression for item1 in iterable1 for item2 in iterable2]\n",
    "```"
   ]
  },
  {
   "cell_type": "code",
   "execution_count": null,
   "metadata": {},
   "outputs": [],
   "source": [
    "# eg:\n",
    "# Traditional way of creating the list through loop \n",
    "li = []\n",
    "for x in range(10):\n",
    "  li.append(x*x);\n",
    "print(li)\n",
    "\n",
    "# List comprehension way of creating the list with the filled values \n",
    "li = [x*x for x in range(10)]\n",
    "odd_list = [x for x in range(20) if x&1==1]\n",
    "even_list = [x for x in range(20) if x&1==0]\n",
    "print(odd_list)\n",
    "print(even_list)\n",
    "\n",
    "table2 = [f\"{x}X2 = {x*2}\"  for x in range(21) if x>0]\n",
    "print(table2)\n",
    "\n",
    "table3 = [x*3 for x in range(21) if x>0]\n",
    "print(table3)\n",
    "\n",
    "# Nested List comprehension \n",
    "# eg: \n",
    "list1 = [1,2,3,4]\n",
    "list2 = [\"a\",\"b\",\"c\",\"d\"]\n",
    "nested_list = [[i,j] for i in list1 for j in list2]\n",
    "print(nested_list)\n",
    "\n",
    "# creating the 5x5 matrix\n",
    "\n",
    "matrix = [[j for j in range(6) if j>0] for i in range(3)]\n",
    "print(matrix)\n",
    "\n",
    "# List comprehension with function calls : \n",
    "words = [\"Natraj\", \"Nitro\", \"Welcome\", \"to\",\"the\",\"World\",\"Of\",\"DATA\"]\n",
    "length = [len(word) for word in words]\n",
    "print(length)"
   ]
  },
  {
   "cell_type": "markdown",
   "metadata": {},
   "source": [
    "List comprehension are a powerful and concise way to create a list in python. The are syntactically compact and can replace more verbose looping constructs. Understanding the syntax of the list comprehensions will help you write cleaner and more efficient Python code. "
   ]
  },
  {
   "cell_type": "markdown",
   "metadata": {},
   "source": [
    "### SETS: (Mutable, unique elements, unordered data structure it is)\n",
    "Sets are the built-in data structure in Python, used **to store the collection of unique items.** They are **unordered**, meaning that **the element do not follow any specific order**, and they **do not allow any duplicate elements.** Sets are useful for **membership tests, eliminating duplicating entries, and performing mathematical set operations like union,intersection, difference, and symmetric difference.**  \n"
   ]
  },
  {
   "cell_type": "code",
   "execution_count": null,
   "metadata": {},
   "outputs": [],
   "source": [
    "#  creating the sets \n",
    "# with the set constructor function - into the set constructor i can give the list, {} curly braced elements\n",
    "my_set = set({1,2,3,4,5,5,5})\n",
    "my_unique_strings = set({\"a\",\"a\",\"b\",\"c\",\"c\"})\n",
    "print(\"my_unique_strings:\",my_unique_strings)\n",
    "unique_set = set([1,2,2,22,2,])\n",
    "print(\"unique_set :\", unique_set)\n",
    "\n",
    "# using by set literal \"{ }\" curly braces\n",
    "my_set1 = {\"Natraj\",\"Nitro\",\"Karikalan\",\"Nitro\"}\n",
    "empty_set = set()\n",
    "\n",
    "print(type(empty_set))\n",
    "print(my_set)\n",
    "print(my_set1)\n",
    "print(type(my_set))\n",
    "print(type(my_set1))\n"
   ]
  },
  {
   "cell_type": "code",
   "execution_count": null,
   "metadata": {},
   "outputs": [],
   "source": [
    "# Basic set operation: \n",
    "# Add and remove the elements\n",
    "\n",
    "my_set = {1,2,3,4,5,6,7}\n",
    "\n",
    "# adding 8 which is not in the set -> it get added \n",
    "my_set.add(8)\n",
    "print(my_set)\n",
    "\n",
    "# adding 8 which is already in the set -> it doesn't get added -> because it doesn't allow duplicates\n",
    "my_set.add(8) \n",
    "print(my_set) \n",
    "\n",
    "# remove the element 4 from the set -> it remove it\n",
    "my_set.remove(4) \n",
    "print(my_set)\n",
    "\n",
    "# Removing the not existing element 4 from the set -> return the error like key Error : 4\n",
    "# In some places, we don't actually need this error to fall back if the element which we key in to remove, \n",
    "# at that moment this remove method doesn't help us really. So we use the discard method. \n",
    "# my_set.remove(4)\n",
    "print(my_set)\n",
    "\n",
    "# discard method\n",
    "# Here 4 is not exist in the set, but still i try to remove it if 4 exist, in this case, no error rise up. \n",
    "my_set.discard(7) \n",
    "print(my_set)\n",
    "my_set.discard(7) \n",
    "print(my_set)\n",
    "\n",
    "\n",
    "# pop method -> it just remove the first element like first in first out \n",
    "removed_element = my_set.pop()\n",
    "print(removed_element)\n",
    "print(my_set)\n",
    "\n",
    "# clear method to clear the elements in the set \n",
    "my_set.clear()\n",
    "print(my_set)\n"
   ]
  },
  {
   "cell_type": "code",
   "execution_count": null,
   "metadata": {},
   "outputs": [],
   "source": [
    "# SET - Membership test \n",
    "# Its like checking whether the element is present in the set or not\n",
    "my_set = {1,2,3,4,5}\n",
    "print(3 in my_set)\n",
    "print(8 in my_set)\n",
    "\n",
    "# Mathematical Operation \n",
    "set1 = {1,2,3,4,5,6}\n",
    "set2 = {4,5,6,7,8,9}\n",
    "\n",
    "# Union \n",
    "union_set = set1.union(set2)\n",
    "print(union_set)\n",
    "\n",
    "# intersection \n",
    "common_set = set1.intersection(set2)\n",
    "print(common_set)\n",
    "\n",
    "# Intersection_update -> set1.intersection_update(set2) -> set1 intersection set2 -> value get updated in the set1.\n",
    "common_ele_update = set1.intersection_update(set2)\n",
    "# Basically -> set1.intersection(set2) value will be stored in the set 1 now. \n",
    "print(set1)\n",
    "\n",
    "set1 = {1,2,3,4,5,6}\n",
    "set2 = {4,5,6,7,8,9}\n",
    "\n",
    "# Difference \n",
    "difference1_2 = set1.difference(set2)\n",
    "print(difference1_2)\n",
    "print(set1)\n",
    "\n",
    "difference2_1 = set2.difference(set1)\n",
    "print(difference2_1)\n",
    "print(set2)\n",
    "\n",
    "# Difference_update -> difference will get updated in the respective set\n",
    "set1.difference_update(set2)\n",
    "print(set1)\n",
    "\n",
    "set1 = {1,2,3,4,5,6}\n",
    "set2 = {4,5,6,7,8,9}\n",
    "\n",
    "# Symmetric Difference -> it return the set which contains and combine the unique elements in both sets. \n",
    "sym_difference = set1.symmetric_difference(set2)\n",
    "print(sym_difference)\n",
    "\n",
    "# SET Methods:\n",
    "set1 = {4,5,6}\n",
    "set2 = {4,5,6,7,8,9}\n",
    "\n",
    "# is_subset():\n",
    "# True in this case -> is the set1 subset of set2 means set1 values exist in the set2?\n",
    "print(set1.issubset(set2)) # True\n",
    "\n",
    "set1 = {1,2,3,4,5,6}\n",
    "set2 = {4,5,6}\n",
    "print(set2.issubset(set1)) # True\n",
    "\n",
    "set1 = {1,2,3,4,5,6}\n",
    "set2 = {1,2,3,4,5,6}\n",
    "print(set2.issubset(set1))\n",
    "\n",
    "set1 = {1,2,3,4,5,6,7,8,9}\n",
    "set2 = {4,5,6,7,8,9}\n",
    "print(set2.issubset(set1))\n",
    "\n",
    "# Superset check set1.issuperset(set2) -> means check whether the set1 is the superset of set2 \n",
    "# means if set1 contains all the elements of set2 then set1 is superset of the set2\n",
    "print(set1.issuperset(set2))"
   ]
  },
  {
   "cell_type": "code",
   "execution_count": 162,
   "metadata": {},
   "outputs": [
    {
     "name": "stdout",
     "output_type": "stream",
     "text": [
      "1\n",
      "2\n",
      "3\n",
      "{1, 2, 3, 4, 5}\n",
      "Unique elements:  {1, 2, 3, 4, 5}\n",
      "{'about', 'are', 'this', 'In', 'tutorial', 'sets', 'discussing', 'we'}\n",
      "{1, 2, 3, 4, 5, 6, 7}\n",
      "{3, 4, 5}\n",
      "{1, 2}\n",
      "{1, 2, 3, 4, 5, 6}\n",
      "{'Charlie', 'Bob'}\n"
     ]
    }
   ],
   "source": [
    "# Practice:\n",
    "# One of the main practical applications of Python sets is to return a list of unique values \n",
    "# from any Python sequence,such as a list or tuple. As we can see, \n",
    "# by converting the list names to a set and then back to a list, we have obtained a new list with no duplicates. \n",
    "my_set = {1, 2, 3}\n",
    "for element in my_set:\n",
    "    print(element)\n",
    "\n",
    "list=[1,2,2,3,4,4,5]\n",
    "# if i want to quickly remove the duplicates, then just pass it into the set constructor \n",
    "unique = set(list)\n",
    "print(unique)\n",
    "\n",
    "# Removing Duplicates: Sets automatically eliminate duplicate values. \n",
    "# Converting a list to a set and back to a list is a common way to obtain unique elements.\n",
    "my_list = [1, 2, 2, 3, 4, 4, 5]\n",
    "unique_list = set(my_list)\n",
    "print(\"Unique elements: \",unique_list)  # Output: [1, 2, 3, 4, 5]\n",
    "\n",
    "# Counting unique words in text \n",
    "text = \"In this tutorial we are discussing about sets\"\n",
    "words = text.split()\n",
    "unique_words = set(words)\n",
    "print(unique_words)\n",
    "\n",
    "\n",
    "# Set Operations:\n",
    "#  Sets support mathematical set operations like union, intersection, and difference, \n",
    "# which are useful for data analysis and manipulation. \n",
    "set1 = {1, 2, 3, 4, 5}\n",
    "set2 = {3, 4, 5, 6, 7}\n",
    "    \n",
    "print(set1 | set2)  # Union: {1, 2, 3, 4, 5, 6, 7}\n",
    "print(set1 & set2)  # Intersection: {3, 4, 5}\n",
    "print(set1 - set2)  # Difference: {1, 2}\n",
    "\n",
    "# Finding unique elements:\n",
    "# Sets can be used to efficiently identify unique elements across multiple lists or iterables.\n",
    "\n",
    "list1 = [1, 2, 3, 4]\n",
    "list2 = [3, 4, 5, 6]\n",
    "unique_elements = set(list1 + list2)\n",
    "print(unique_elements) # Output: {1, 2, 3, 4, 5, 6}\n",
    "\n",
    "\n",
    "# Data Analysis: Sets can help identify common or distinct items between datasets, \n",
    "# such as finding overlapping customers between two marketing campaigns.\n",
    "\n",
    "customers1 = {\"Alice\", \"Bob\", \"Charlie\", \"David\"}\n",
    "customers2 = {\"Charlie\", \"Eve\", \"Frank\", \"Bob\"}\n",
    "\n",
    "common_customers = customers1.intersection(customers2)\n",
    "print(common_customers)  # Output: {'Bob', 'Charlie'}"
   ]
  },
  {
   "cell_type": "markdown",
   "metadata": {},
   "source": [
    "### Dictionaries (dict) \n",
    "\n",
    "Outline: \n",
    "- Introduction to the dictionaries\n",
    "- Creating dictionaries\n",
    "- Accessing the dictionary elements\n",
    "- Modifying the dictionary elements\n",
    "- Dictionary methods\n",
    "- Iterating over the Dictionaries\n",
    "- Nested Dictionaries \n",
    "- Dictionary Comprehensions\n",
    "- Practical Examples and errors.\n",
    "  \n",
    "#### Introduction to the dictionaries\n",
    "Dictionaries are **unordered, key-value paired** collection of items/elements. They store data in terms of **key - value pairs**. **Keys** must be **unique and immutable** which can be of strings, numbers and tuples, while values can be of any types. \n"
   ]
  },
  {
   "cell_type": "code",
   "execution_count": null,
   "metadata": {},
   "outputs": [],
   "source": [
    "# Creating the dictionaries\n",
    "empty_set = set([]) # empty set declaration \n",
    "empty_dict = {} # empty dict declaration \n",
    "empty_dictionary = dict() # By constructor function, empty dict declaration.\n",
    "\n",
    "print(type(empty_dict))\n",
    "print(type(empty_dictionary))\n",
    "print(type(empty_set))"
   ]
  },
  {
   "cell_type": "code",
   "execution_count": null,
   "metadata": {},
   "outputs": [],
   "source": [
    "# Dictionary is all about key value pairs. \n",
    "student = {\n",
    "  \"name\" : \"Natarajan\",\n",
    "  \"age\":32,\n",
    "  \"grade\": \"A\",\n",
    "}\n",
    "print(student)\n",
    "\n",
    "# if we try to create a dictionary with duplicate key name with values, and then error gt occur. \n",
    "student = {\n",
    "  \"name\" : \"Natarajan\",\n",
    "  \"age\":32,\n",
    "  \"grade\": \"A\",\n",
    "}\n",
    "print(student) # output : {'name': 'Rajan', 'age': 32, 'grade': 'A'}\n",
    "\n",
    "# while we try with duplicate key \"name\",\n",
    "# the recent value which we specify with duplicate key name will get replace the value of \"name\" in the memory. \n",
    "# so that name : \"Rajan\" comes in the output.\n"
   ]
  },
  {
   "cell_type": "code",
   "execution_count": null,
   "metadata": {},
   "outputs": [],
   "source": [
    "# Accessing the dictionary elements:\n",
    "student = {\n",
    "  \"name\" : \"Natarajan\",\n",
    "  \"age\":32,\n",
    "  \"grade\": \"A\",\n",
    "}\n",
    "\n",
    "# Easier way to access the dictionary values through key\n",
    "print(\"Grade:\", student[\"grade\"])\n",
    "print(\"Age:\", student[\"age\"])\n",
    "\n",
    "# other way to access tht dictionary through Key_name using the get()\n",
    "\n",
    "print(student.get(\"name\")) # Natarajan\n",
    "print(student.get(\"grade\")) # A\n",
    "print(student.get(\"last_name\")) # None because \"last_name\" key doesn't exist\n",
    "\n",
    "# By using the get method, while we access the key_name which doesn't exist in the dictionary, instead of none,\n",
    "# we can give a default value to return when the key_name we are looking for is missing/not exist\n",
    "print(student.get(\"last_name\", \"Not Available\"))  # Not available comes instead None. More informative now.\n"
   ]
  },
  {
   "cell_type": "code",
   "execution_count": 184,
   "metadata": {},
   "outputs": [
    {
     "name": "stdout",
     "output_type": "stream",
     "text": [
      "{'name': 'Natarajan', 'age': 33, 'Qualification': 'Under_Graduate'}\n"
     ]
    }
   ],
   "source": [
    "# Modifying the dictionary\n",
    "# Dictionary is mutable, so we can add, delete, update the dictionary if needed\n",
    "student = {\n",
    "  \"name\" : \"Natarajan\",\n",
    "  \"age\":32,\n",
    "  \"grade\": \"A\",\n",
    "}\n",
    "\n",
    "# updating the age value\n",
    "student[\"age\"] = 33 \n",
    "\n",
    "# adding the new key and value to the existing dictionary\n",
    "student[\"Qualification\"] = \"Under_Graduate\"\n",
    "\n",
    "# delete the key and value pair over the dictionary\n",
    "del student[\"grade\"]\n",
    "\n",
    "print(student)"
   ]
  },
  {
   "cell_type": "code",
   "execution_count": null,
   "metadata": {},
   "outputs": [],
   "source": [
    "# Dictionary methods \n",
    "keys = student.keys()\n",
    "values = student.values()\n",
    "key_value = student.items()\n",
    "print(keys)\n",
    "print(values)\n",
    "print(key_value)\n",
    "print(type(keys))\n",
    "print(type(values))\n",
    "print(type(key_value))\n",
    "\n",
    "student = {\n",
    "  \"name\" : \"Natarajan\",\n",
    "  \"age\":32,\n",
    "  \"grade\": \"A\",\n",
    "}\n",
    "\n",
    "student_marks = {\n",
    "  \"english\" : 85,\n",
    "  \"maths\" : 58\n",
    "  }\n",
    "student_status = {\n",
    "  \"isPlaced\" : \"Yes\",\n",
    "  \"age\":24\n",
    "}\n",
    "# update method to update the dictionaries by other dictionaries.\n",
    "student.update(student_marks)\n",
    "\n",
    "# ** will unpack the dictionary elements and spread it into other dictionaries \n",
    "student = {**student, **student_marks , **student_status}\n",
    "print(student)"
   ]
  },
  {
   "cell_type": "code",
   "execution_count": null,
   "metadata": {},
   "outputs": [],
   "source": [
    "# shallow copy \n",
    "student = {\n",
    "  \"name\" : \"Natarajan\",\n",
    "  \"age\":32,\n",
    "  \"grade\": \"A\",\n",
    "}\n",
    "teachers = {\n",
    "  \"name\": \"Krish\",\n",
    "  \"Expert\": \"Data science\",\n",
    "  \"age\": 40,\n",
    "  \"location\": \"Hyderabad\"\n",
    "}\n",
    "\n",
    "student_copy = student;\n",
    "# Now the student and student_copy dictionary both reference the same object,\n",
    "#  so if we change the student_copy object, it would affect the student dictionary object as well. \n",
    "# eg: I am gonna add \"lang\" = [\"Eng\", \"Hindi\"] into the student_copy dictionary object. Lets see what happens \n",
    "\n",
    "# Irrespective of student or student_copy, the changes what we do in anyone will reflect on the both of it. \n",
    "student_copy[\"lang\"] = [\"Eng\", \"Hindi\"]\n",
    "student[\"qualification\"] = \"Masters in computer education\"\n",
    "print(student)\n",
    "print(student_copy)\n",
    "\n",
    "# we do the shallow copy to avoid this error\n",
    "\n",
    "#  Shallow copy - allocate different memory \n",
    "student = {\n",
    "  \"name\" : \"Natarajan\",\n",
    "  \"age\":32,\n",
    "  \"grade\": \"A\",\n",
    "}\n",
    "teachers = {\n",
    "  \"name\": \"Krish\",\n",
    "  \"Expert\": \"Data science\",\n",
    "  \"age\": 40,\n",
    "  \"location\": \"Hyderabad\"\n",
    "}\n",
    "student1 = student.copy()\n",
    "student1[\"dob\"] = \"Jan 5th 1994\"\n",
    "teacher1 = teachers.copy()\n",
    "teacher1[\"lang\"] = \"English\"\n",
    "\n",
    "print(student)\n",
    "print(student1)\n",
    "print(teachers)\n",
    "print(teacher1)\n",
    "\n",
    "# By this way, we can protect our original dictionary \n",
    "# from the copy where we make changes while doing the programming task"
   ]
  },
  {
   "cell_type": "code",
   "execution_count": null,
   "metadata": {},
   "outputs": [],
   "source": [
    "### Iterate over the dictionaries \n",
    "# we can use the loops to iterate over the dictionaries through keys, values, key-values\n",
    "\n",
    "# iterating over the keys : \n",
    "for keys in teachers.keys():\n",
    "  print(keys ,\" : \", teachers[keys])\n",
    "\n",
    "# iterating over the values : \n",
    "for value in teachers.values():\n",
    "  print(value)\n",
    "\n",
    "\n",
    "# iterating over the key - values : \n",
    "for key, value in teachers.items():\n",
    "  print(f\"{key} : {value}\")\n"
   ]
  },
  {
   "cell_type": "code",
   "execution_count": null,
   "metadata": {},
   "outputs": [],
   "source": [
    "# Nested Dictionaries : \n",
    "teachers = {\n",
    "  \"teacher1\": {\"name\": \"Krish\",\n",
    "  \"Expert\": \"Data science\",\n",
    "  \"age\": 40,\n",
    "  \"location\": \"Hyderabad\"},\n",
    "  \"teacher2\" : {\n",
    "    \"name\": \"Krish1\",\n",
    "  \"Expert\": \"Data science and AI\",\n",
    "  \"age\": 35,\n",
    "  \"location\": \"Bombay\"\n",
    "  } \n",
    "}\n",
    "\n",
    "# how do we access the nested dictionaries\n",
    "\n",
    "print(teachers[\"teacher1\"][\"location\"])\n",
    "print(teachers[\"teacher2\"][\"location\"])\n",
    "print(teachers[\"teacher1\"][\"Expert\"])\n",
    "print(teachers[\"teacher2\"][\"Expert\"])\n",
    "\n",
    "# Iterate over the nested dictionaries \n",
    "for teacher_id, teacher_info in teachers.items():\n",
    "  print(f\"{teacher_id} : {teacher_info}\")\n",
    "  for key,value in teacher_info.items():\n",
    "    print(f\"{key}:{value}\")\n",
    "\n",
    "# Any level of nesting it may be, we can able to iterate the above way."
   ]
  },
  {
   "cell_type": "code",
   "execution_count": 227,
   "metadata": {},
   "outputs": [
    {
     "name": "stdout",
     "output_type": "stream",
     "text": [
      "{'x2: 4', 'x4: 16', 'x3: 9', 'x1: 1', 'x0: 0'}\n",
      "{'x5:25', 'x3:9', 'x1:1'}\n",
      "{1: 1, 2: 2, 3: 3, 4: 4, 5: 5, 6: 1, 7: 3}\n",
      "[1, 2, 3, 4, 5, 6, 7]\n"
     ]
    }
   ],
   "source": [
    "# Dictionary comprehension \n",
    "\n",
    "squares = {f\"x{x}: {x**2}\" for x in range(5)}\n",
    "print(squares)\n",
    "\n",
    "# Conditional Dictionary comprehension \n",
    "odd_squares = {f\"x{x}:{x**2}\" for x in range(6) if x&1 == 1}\n",
    "print(odd_squares)\n",
    "\n",
    "# Practical Example:\n",
    "\n",
    "numbers = [1,2,2,3,3,3,4,4,4,4,5,5,5,5,5,6,7,7,7]\n",
    "quantity = {}\n",
    "\n",
    "for num in numbers:\n",
    "  if num in quantity:\n",
    "    quantity[num] +=1\n",
    "  else:\n",
    "    quantity[num] = 1\n",
    "\n",
    "print(quantity)\n",
    "\n",
    "unique = set(numbers)\n",
    "unique_list = [*unique]\n",
    "print(unique_list)"
   ]
  },
  {
   "cell_type": "code",
   "execution_count": null,
   "metadata": {},
   "outputs": [],
   "source": [
    "# Merge two dictionaries into one \n",
    "\n",
    "dict1 = {\"a\":1, \"b\":2}\n",
    "dict2 = {\"b\":3, \"c\":4,\"d\":4}\n",
    "# ** -> dictionary argument which will unpack all the key: value pairs \n",
    "merged_dict = {**dict1 , **dict2}\n",
    "\n",
    "print(merged_dict)"
   ]
  },
  {
   "cell_type": "markdown",
   "metadata": {},
   "source": [
    "### TUPLES: \n",
    "\n",
    "What we gonna see: \n",
    "- Introduction to Tuples\n",
    "- Creating Tuples\n",
    "- Accessing the tuples\n",
    "- Tuple operations\n",
    "- Immutable nature of Tuples\n",
    "- Tuple methods\n",
    "- Packing and unpacking the Tuples\n",
    "- Nested Tuples\n",
    "- Practical Examples\n",
    "\n",
    "#### Introduction to Tuples: \n",
    "Tuples are ordered collection of items and immutable in nature - similar to list but that immutability makes them different. \n"
   ]
  },
  {
   "cell_type": "code",
   "execution_count": null,
   "metadata": {},
   "outputs": [],
   "source": [
    "# creating the tuples \n",
    "\n",
    "# There are two ways to create the tuples. \n",
    "# Tuple Literal ()\n",
    "empty_tuple = ()\n",
    "print(empty_tuple)\n",
    "print(type(empty_tuple))\n",
    "\n",
    "#  constructor function to create the tuple\n",
    "new_tuple = tuple([1,2,3,4,5,6,7])\n",
    "print(new_tuple)\n",
    "print(type(new_tuple))\n",
    "\n",
    "# Constructor function to create the list \n",
    "lst = __builtins__.list((1,2,3,4,5,6,7,8))\n",
    "print(lst)\n",
    "print(type(lst))\n",
    "\n",
    "# list and tuples are convertible by passing as a argument into the constructor function\n",
    "\n",
    "mixed_tuple = (1,2,34, \"Nitro\", True)\n",
    "print(mixed_tuple)\n",
    "\n",
    "mixed_tuples = ({\"name\": \"Natraj\", \"age\":25}, [1,2,3,4,5,6] , {1,2,3,4,5,6,7,8,8})\n",
    "print(mixed_tuples)\n",
    "\n",
    "numbers = (1,2,3,4,5,6,7,8,9)\n",
    "\n",
    "# Accessing the tuple elements \n",
    "\n",
    "print(numbers[2])\n",
    "print(mixed_tuples[0])\n",
    "print(mixed_tuples[1])\n",
    "print(mixed_tuples[2])\n",
    "print(mixed_tuples[::-1])\n",
    "\n",
    "# Tuple Operation : \n",
    "\n",
    "# we can concatenate two tuple\n",
    "concatenate_tuple = numbers + mixed_tuple\n",
    "print(concatenate_tuple)\n",
    "\n",
    "# we can multiply to repeat the tuple no of Time\n",
    "repeat_tuple  = mixed_tuple*3\n",
    "print(repeat_tuple)\n"
   ]
  },
  {
   "cell_type": "code",
   "execution_count": null,
   "metadata": {},
   "outputs": [],
   "source": [
    "# Immutable nature of Tuples\n",
    "# Tuples are immutable, meaning that the elements cannot be changes once assigned\n",
    "lst = [1,2,3,4,8,5,6,1,1,1,1,]\n",
    "print(lst)\n",
    "\n",
    "lst[1] = \"Nitro\"\n",
    "print(lst) # here the element get mutated while i assigning new value on the 1st index on the lst list. \n",
    "\n",
    "# Lets see what will happen if i do the same in tuples \n",
    "# TypeError: 'tuple' object does not support item assignment\n",
    "# mixed_tuples[0] = {\"Name\": \"Natraj\"} \n",
    "# if we really wanna mutate tuple, then we need to convert it into the list and then mutate and then convert back to tuple.\n",
    "\n",
    "# tuple methods\n",
    "print(lst.count(1))\n",
    "print(lst.index(8))\n",
    "\n",
    "# packing and unpacking tuple\n",
    "\n",
    "# when we have the values separated by comma and assigning it into the variable, it is packed as a tuple and assigned into the variable.\n",
    "packed_tuple = 1,\"Hello\",\"Natraj\",True,{\"Name\":\"Natraj\"}\n",
    "print(packed_tuple)\n",
    "\n",
    "# Unpack the tuple \n",
    "a,b,c,d,e = packed_tuple\n",
    "\n",
    "print(a)\n",
    "print(b)\n",
    "print(c)\n",
    "print(d)\n",
    "print(e)\n",
    "\n",
    "mixed_tuples = ({\"name\": \"Natraj\", \"age\":25}, [1,2,3,4,5,6] , {1,2,3,4,5,6,7,8,8}, \"Natraj\")\n",
    "\n",
    "obj, *others,last= mixed_tuples\n",
    "\n",
    "print(obj)\n",
    "print(others)\n",
    "print(last)\n",
    "\n"
   ]
  },
  {
   "cell_type": "code",
   "execution_count": null,
   "metadata": {},
   "outputs": [],
   "source": [
    "#  Nested Tuples - Tuples inside tuple called nested tuples \n",
    "\n",
    "lst = [[1,2,3,4],[2,3,4,5,6],[12,34,7,5,5],(1,2,3,4,5,6,7,8)]\n",
    "\n",
    "print(lst[0],lst[1],lst[3])\n",
    "print(lst[0][0:2],lst[1],lst[2])\n",
    "\n",
    "new_tuple = tuple(lst)\n",
    "print(new_tuple)\n",
    "\n",
    "nested_tuples = ((\"a\",\"b\",\"c\",\"d\"),(True,False),({\"name\":[\"Nitro\", \"Natraj\"]}))\n",
    "\n",
    "#  to access the nested tuples \n",
    "print(nested_tuples[2][\"name\"][0])\n",
    "\n",
    "\n",
    "# iterating over the tuples\n",
    "\n",
    "for item in nested_tuples:\n",
    "  print(item)\n",
    "  for i in item:\n",
    "    print(i)"
   ]
  },
  {
   "cell_type": "markdown",
   "metadata": {},
   "source": [
    "Conclusion: \n",
    "Tuples are versatile and useful in many real-world scenarios where an immutable and ordered collection of items is required. They are commonly used in the data structures, function arguments and return values, and as dictionary keys.Understanding how to leverage tuples effectively can improve the efficiency and readability of our python code\n",
    "\n",
    "In programming, tuples are commonly used to represent fixed sets of data like **coordinates (latitude, longitude), RGB color values, database records (name, age, address)**, or any situation where you need to store a collection of related data that should not be modified, making their immutability a key advantage in these scenarios. \n",
    "Key real-world use cases of tuples:\n",
    "\n",
    "**Storing Coordinates:**\n",
    "Representing geographical locations with tuples like (latitude, longitude) where the order of values is important and changes are not desired. \n",
    "\n",
    "**RGB Color Values:**\n",
    "Representing colors as tuples of red, green, and blue components, ensuring that the color values remain consistent. \n",
    "\n",
    "**Database Records:**\n",
    "Storing data from a database table as tuples where each element represents a field in the record.\n",
    "\n",
    "**Function Return Values:**\n",
    "When a function needs to return multiple values, a tuple can be used to group them together. \n",
    "\n",
    "**Dictionary Keys:**\n",
    "Since tuples are immutable and ordered, they can be used as keys in dictionaries where the order of elements matters.\n",
    "\n",
    "**Configuration Settings:**\n",
    "Representing fixed configuration parameters in a program using tuples to prevent accidental changes.\n",
    "\n",
    "### Why use tuples instead of lists?\n",
    "**Immutability:**\n",
    "The main advantage of tuples is that they are immutable, meaning their elements cannot be changed once created, making them ideal for situations where data integrity is crucial.\n",
    "\n",
    "**Data Integrity:**\n",
    "By preventing modifications, tuples help ensure data consistency and avoid potential bugs caused by unintended changes. "
   ]
  },
  {
   "cell_type": "code",
   "execution_count": null,
   "metadata": {},
   "outputs": [
    {
     "name": "stdout",
     "output_type": "stream",
     "text": [
      "8\n",
      "(1, 2, 3, 4, 5, 5, 6, 7, 8)\n",
      "99 1\n"
     ]
    }
   ],
   "source": [
    "#  Find the length of a tuple.\n",
    "print(len((1,2,3,4,5,6,7,8)))\n",
    "\n",
    "# Concatenate two tuples.\n",
    "tup1 = (1,2,3,4,5)\n",
    "tup2 = (5,6,7,8)\n",
    "\n",
    "concatenated_tup = tup1 + tup2\n",
    "print(concatenated_tup)\n",
    "\n",
    "tup = (1,2,7,8,99)\n",
    "maximum = max(tup)\n",
    "minimum = min(tup)\n",
    "\n",
    "print(maximum, minimum)\n",
    "\n",
    "# https://www.linkedin.com/pulse/25-python-tuple-questions-solution-mrityunjay-pathak"
   ]
  },
  {
   "cell_type": "markdown",
   "metadata": {},
   "source": [
    "### Work with string data type\n",
    "String is a textual data  "
   ]
  },
  {
   "cell_type": "code",
   "execution_count": null,
   "metadata": {},
   "outputs": [],
   "source": [
    "message = \"HelloWorld\"\n",
    "print(message) # to check the message variable holding \n",
    "print(len(message)) # to check the length of the string \n",
    "print(message[0:5]) # access the string using the indexing\n",
    "print(message.capitalize()) # capitalize the given string\n",
    "print(message.upper()) # uppercase\n",
    "print(message.lower()) # lowercase\n",
    "print(message.count(\"l\")) # to count some character in the string, we need to pass the character \n",
    "print(message.find(\"l\")) # it return the index of the first occurance of the specified value\n",
    "print(message.casefold()) # return the caseless string for comparision \n",
    "print(message.center(35, \"*\")) # it centers the string with some filler elements "
   ]
  },
  {
   "cell_type": "code",
   "execution_count": null,
   "metadata": {},
   "outputs": [],
   "source": [
    "print(message.isascii())\n",
    "print(\"12\".isdecimal())\n",
    "print(\"12345\".isnumeric())\n",
    "print(\"1206\".isdigit())\n",
    "print(\"message\".isidentifier())\n",
    "print(\"f \".isspace())\n",
    "print(\"Nitro Natraj\".istitle())\n",
    "print(\"JHKHFGDAKJDSF\".isupper())\n",
    "print(\"kdjfhgdsf\".islower())\n",
    "print(\"\".join([\"n\",\"a\",\"t\",\"r\",\"a\",\"j\"]))\n",
    "print(\"\".join((\"a\",\"b\",\"c\",\"d\")))\n",
    "print(len(\"natraj\".ljust(50)))\n",
    "print(\"       natraj\".lstrip())\n",
    "print(len(\"     natraj             \".rstrip()))\n",
    "print(len(\"      natraj       \".strip()))\n",
    "print(\"Hello world\".replace(\"world\",\"Universe\"))\n",
    "print(type((\"natraj\".rsplit()[0])[::-1]))\n",
    "print(\"Natraj\".swapcase())\n",
    "print(\"natarajan thanaraj leelavathi\".rsplit(\" \"))\n"
   ]
  },
  {
   "cell_type": "markdown",
   "metadata": {},
   "source": [
    "### Real world use cases of List and dictionaries \n",
    " - Manage a TO-DO List:\n",
    " - Organizing the student marks\n",
    " - Inventory management\n",
    " - Collection of user feedback"
   ]
  },
  {
   "cell_type": "code",
   "execution_count": null,
   "metadata": {},
   "outputs": [],
   "source": []
  }
 ],
 "metadata": {
  "kernelspec": {
   "display_name": "Python 3",
   "language": "python",
   "name": "python3"
  },
  "language_info": {
   "codemirror_mode": {
    "name": "ipython",
    "version": 3
   },
   "file_extension": ".py",
   "mimetype": "text/x-python",
   "name": "python",
   "nbconvert_exporter": "python",
   "pygments_lexer": "ipython3",
   "version": "3.12.0"
  }
 },
 "nbformat": 4,
 "nbformat_minor": 2
}
