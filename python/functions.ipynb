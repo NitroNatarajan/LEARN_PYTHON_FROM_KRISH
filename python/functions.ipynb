{
 "cells": [
  {
   "cell_type": "markdown",
   "metadata": {},
   "source": [
    "### Function: \n",
    "Function is a block of code that performs a specific task. Function will help us in organizing the code, reusing the code, and improves the readability.\n",
    "\n",
    "why function:\n",
    "- reusability of code for perform the similar task \n",
    "- improves the readability "
   ]
  },
  {
   "cell_type": "code",
   "execution_count": 3,
   "metadata": {},
   "outputs": [
    {
     "name": "stdout",
     "output_type": "stream",
     "text": [
      "This number is even\n"
     ]
    }
   ],
   "source": [
    "# syntax for function declaration: \n",
    "def function_name (parameters):\n",
    "  \"\"\"docs string which describe what this function solves or does for programers notes\"\"\"\n",
    "  # function body\n",
    "  return None\n",
    "\n",
    "#  to call the function :\n",
    "\n",
    "# function_name(*args)\n",
    "def odd_or_even(num):\n",
    "  if num%2==0:\n",
    "    print(\"This number is even\")\n",
    "  else:\n",
    "    print(\"the number is odd\")\n",
    "\n",
    "odd_or_even(24)"
   ]
  },
  {
   "cell_type": "code",
   "execution_count": 5,
   "metadata": {},
   "outputs": [
    {
     "name": "stdout",
     "output_type": "stream",
     "text": [
      "5\n"
     ]
    }
   ],
   "source": [
    "# function with multiple parameters \n",
    "def add(a,b):\n",
    "  return a+b\n",
    "\n",
    "result = add(2,3);print(result)"
   ]
  },
  {
   "cell_type": "code",
   "execution_count": null,
   "metadata": {},
   "outputs": [
    {
     "name": "stdout",
     "output_type": "stream",
     "text": [
      "Hello Krish. Welcome to the paradise..\n",
      "Hello Guest. Welcome to the paradise..\n",
      "Hello Natarajan. Welcome to the paradise..\n"
     ]
    }
   ],
   "source": [
    "# Default Parameters\n",
    "def greet(name=\"Guest\"):\n",
    "  print(f\"Hello {name}. Welcome to the paradise..\")\n",
    "\n",
    "greet(\"Krish\")\n",
    "greet()\n",
    "greet(\"Natarajan\")\n",
    "# what if the argument missing while calling the function:\n",
    "# to set the default parameter, we must assignt he value to the parameter while defining the function "
   ]
  },
  {
   "cell_type": "code",
   "execution_count": null,
   "metadata": {},
   "outputs": [],
   "source": [
    "#  Variable length arguments:\n",
    "# positional arguments: *args\n",
    "# keyword arguments: **kwargs\n",
    "# we may have many number of parameters - to refer those we use this positional and keywords arguments \n",
    "def print_numbers(num1,num2,num3,num4):\n",
    "  print(num1)\n",
    "  print(num2)\n",
    "  print(num3)\n",
    "  print(num4)\n",
    "\n",
    "print_numbers(1,2,3,4)\n",
    "\n",
    "# Instead we can do use the positional argument keyword refer the non-key value pairs\n",
    "\n",
    "def print_num(*args):\n",
    "  print(type(args))\n",
    "  for arg in args:\n",
    "    print(arg)\n",
    "\n",
    "print_num(1,2,5,4,7,8,\"Natarajan\")\n",
    "\n",
    "# **kwargs refer the key value pair arguments \n",
    "\n",
    "def print_detail(**kwargs):\n",
    "  print(type(kwargs))\n",
    "  for key,value in kwargs.items():\n",
    "    print(f\"{key}:{value}\")\n",
    "\n",
    "print_detail(name=\"Nitro\",age=\"32\",country=\"India\")\n",
    "\n",
    "# lets combine the positional and keyword arguments : \n",
    "\n",
    "def print_detail(*args,**kwargs):\n",
    "  for val in args:\n",
    "    print(f\"value: {val}\")\n",
    "\n",
    "  for key,value in kwargs.items():\n",
    "    print(f\"{key}:{value}\")\n",
    "\n",
    "print_detail(1,2,3,4,5,6,\"Nitro\", name=\"Nitro\",age=\"32\",country=\"India\")\n",
    "# we shouldn't give the kwargs in between the positional args while calling. That could cause an error \n",
    "\n",
    "# return statement from the function: \n",
    "def multiply(a,b):\n",
    "  return a*b, a # we can able to return multiple values\n",
    "\n",
    "result = multiply(3,4)\n",
    "print(result)"
   ]
  },
  {
   "cell_type": "code",
   "execution_count": 1,
   "metadata": {},
   "outputs": [
    {
     "name": "stdout",
     "output_type": "stream",
     "text": [
      "25.0\n",
      "77.0\n"
     ]
    }
   ],
   "source": [
    "# FUNCTION EXAMPLE PROBLEMS\n",
    "\n",
    "def temp_conv(temp, unit):\n",
    "  '''This function converts the given temp between celcius and fahrenheit'''\n",
    "  if unit.lower()=='f':\n",
    "    return temp*(9/5) + 32\n",
    "  elif unit.lower() == 'c':\n",
    "    return (temp -32)* (5/9) \n",
    "  else:\n",
    "    return None\n",
    "  \n",
    "# Function calling\n",
    "temp1 = temp_conv(77, \"c\")\n",
    "print(temp1)\n",
    "temp2 = temp_conv(25,\"F\")\n",
    "print(temp2)"
   ]
  },
  {
   "cell_type": "code",
   "execution_count": 3,
   "metadata": {},
   "outputs": [
    {
     "name": "stdout",
     "output_type": "stream",
     "text": [
      "False\n",
      "True\n"
     ]
    }
   ],
   "source": [
    "# password strength checker \n",
    "\n",
    "def is_password_stronger(password):\n",
    "  '''This unction check how much the password is stronger enough'''\n",
    "  if len(password) < 8: \n",
    "    return False\n",
    "  if not any(char.isdigit() for char in password):\n",
    "    return False\n",
    "  if not any(char.isupper() for char in password):\n",
    "    return False\n",
    "  if not any(char.isupper() for char in password):\n",
    "    return False\n",
    "  if not any (char in \"!@#$%^&*()_+:\" for char in password):\n",
    "    return False\n",
    "  return True\n",
    "\n",
    "# calling the function \n",
    "print(is_password_stronger(\"natrajJ09876\"))\n",
    "print(is_password_stronger(\"Natraj0501@\"))"
   ]
  },
  {
   "cell_type": "code",
   "execution_count": 4,
   "metadata": {},
   "outputs": [
    {
     "name": "stdout",
     "output_type": "stream",
     "text": [
      "6.5\n"
     ]
    }
   ],
   "source": [
    "# Calculate the total cost of item in shopping cart\n",
    "\n",
    "# Example cart Data\n",
    "cart = [\n",
    "  {\"name\":\"Apple\",\"price\":0.5,\"quantity\":5},\n",
    "   {\"name\":\"Orange\",\"price\":0.3,\"quantity\":4},\n",
    "   {\"name\":\"Apple\",\"price\":0.28,\"quantity\":10}\n",
    "]\n",
    "def calc_total_cost(cart):\n",
    "  total = 0\n",
    "  for item in cart:\n",
    "    total += item[\"price\"]*item[\"quantity\"]\n",
    "  return total\n",
    "\n",
    "bill1 = calc_total_cost(cart)\n",
    "print(bill1)\n"
   ]
  },
  {
   "cell_type": "code",
   "execution_count": 5,
   "metadata": {},
   "outputs": [
    {
     "name": "stdout",
     "output_type": "stream",
     "text": [
      "True\n",
      "False\n"
     ]
    }
   ],
   "source": [
    "# check the string is pallindrome or not\n",
    "\n",
    "def is_pallindrome(string):\n",
    "  s = string.lower().replace(\" \", \"\")\n",
    "  return s == s[::-1]\n",
    "\n",
    "print(is_pallindrome(\"A man a plan a canal Panama\"))\n",
    "print(is_pallindrome(\"Nitro Natarajan\"))"
   ]
  },
  {
   "cell_type": "code",
   "execution_count": null,
   "metadata": {},
   "outputs": [
    {
     "name": "stdout",
     "output_type": "stream",
     "text": [
      "3628800\n"
     ]
    }
   ],
   "source": [
    "# Calculate the factorial function of a number using the recursion \n",
    "# Recursion : when the creation of the function, the same function is called inside the body of the function \n",
    "def factorial(num):\n",
    "  if num== 0:\n",
    "    return 1\n",
    "  else:\n",
    "    return num * factorial(num-1)\n",
    "  \n",
    "print(factorial(10))"
   ]
  },
  {
   "cell_type": "code",
   "execution_count": 2,
   "metadata": {},
   "outputs": [
    {
     "name": "stdout",
     "output_type": "stream",
     "text": [
      "{'hello': 1, 'natarajan': 1, 'how': 1, 'are': 1, 'you': 1, 'man': 1}\n"
     ]
    }
   ],
   "source": [
    "# A function to read a file and read the frequency of each word \n",
    "def count_word_frequency(file_path):\n",
    "  word_count={}\n",
    "  with open(file_path , \"r\") as file:\n",
    "    for line in file:\n",
    "      words = line.split()\n",
    "      for word in words:\n",
    "        word = word.lower().strip(\".,/!@#$%^&*?()''\")\n",
    "        word_count[word] = word_count.get(word,0) + 1\n",
    "\n",
    "  return word_count\n",
    "\n",
    "filepath = \"./sample.txt\"\n",
    "print(count_word_frequency(filepath))"
   ]
  },
  {
   "cell_type": "code",
   "execution_count": 14,
   "metadata": {},
   "outputs": [
    {
     "name": "stdout",
     "output_type": "stream",
     "text": [
      "True\n",
      "True\n"
     ]
    }
   ],
   "source": [
    "# Email Validator\n",
    "import re\n",
    "def email_validator(email_id):\n",
    "  pattern = r\"^[a-zA-Z0-9_.+-]+@[A-Za-z0-9-]+\\.[a-zA-Z0-9.]+$\"\n",
    "  return re.match(pattern, email_id) is not None\n",
    "\n",
    "print(email_validator(\"natarajan05011994@gmail.com\"))\n",
    "print(email_validator(\"1120568@cognizant.com\"))"
   ]
  },
  {
   "cell_type": "markdown",
   "metadata": {},
   "source": [
    "### Lambda function \n",
    "It is a small anonymous function defined using the lambda keyword. They can have any number of arguments but have  only one expression.They are only used for the short operation or as arguments to the higher order function "
   ]
  },
  {
   "cell_type": "code",
   "execution_count": null,
   "metadata": {},
   "outputs": [],
   "source": [
    "# syntax: anonymous function is the function without name  works like a function \n",
    "# lambda argument: expression \n",
    "\n",
    "def addition(a,b):\n",
    "  return a + b;\n",
    "\n",
    "# This function does the small thing, not the bigger expression it have. \n",
    "# Here we can use the lambda function instead of the wholesome function.\n",
    "\n"
   ]
  },
  {
   "cell_type": "code",
   "execution_count": null,
   "metadata": {},
   "outputs": [],
   "source": [
    "# lets convert the above addition function as a lambda function\n",
    "add = lambda a,b:a+b\n",
    "type(add)\n",
    "print(add(2,3))\n",
    "sample = add(5,6)\n",
    "print(sample)\n",
    "\n",
    "\n",
    "# lets do some more of lambda function \n",
    "is_even = lambda a:a%2==0\n",
    "print(is_even(5))\n",
    "\n",
    "# with multiple parameters \n",
    "multi_var_add = lambda a,b,c:a+b+c\n",
    "multi_var_add(1,2,3)\n",
    "\n",
    "# lambda functions are useful for the higher order function which takes the function as an argument and works\n",
    "# map and filter function use the lambda function \n",
    "\n",
    "# map()\n",
    "number = [x*x for x in range(1,6)]\n",
    "print(number)\n",
    "\n",
    "# Sometimes we may wanna do some \n",
    "# can use the map function and aplly that to the elements.\n",
    "\n",
    "# what if we want to round the each value in the list \n",
    "number = [2.12,4.35,6.7,8.09,3.5]\n",
    "to_round = map(lambda num: round(num*num, 2), number)\n",
    "rounded = list(to_round)\n",
    "print(rounded)\n",
    "\n",
    "cubed = list(map(lambda num: num**3, [x for x in range(1,11)]))\n",
    "print(cubed)\n",
    "\n",
    "root = list(map(lambda num: round(num**(1/3)) , cubed))\n",
    "print(root)\n",
    "\n",
    "square = list(map(lambda num: num**2 , [x for x in range(1,11)]))\n",
    "print(square)"
   ]
  },
  {
   "cell_type": "code",
   "execution_count": null,
   "metadata": {},
   "outputs": [],
   "source": [
    "# Map Function applies the given function to all the items in the given iterable and \n",
    "# return a map object(an iterator).This is particularly useful for transforming data ina list comprehensively.\n",
    "# Map use the lazy loading technique, so to get the values we need to pass it into the list()\n",
    "# syntax \n",
    "\n",
    "iter1 = {x for x in range(1,11)}\n",
    "iter2 = [x for x in range(2,21,2)]\n",
    "# print(iter1, iter2)\n",
    "\n",
    "# map function takes two argument,\n",
    "# 1stone  function which get applied over the every element one after the another\n",
    "# 2nd one is the iterables which has the elements\n",
    "\n",
    "# where map() simplifies our task?\n",
    "def square(x):\n",
    "  return x*x\n",
    "print(square(10))\n",
    "\n",
    "square_num = [1,2,3,4,5,6,7,8,9,10]\n",
    "for index,value in enumerate(square_num):\n",
    "  square_num[index] = square(value)\n",
    "\n",
    "print(square_num)\n",
    "\n",
    "# Instead of the above way to mutate every values in the list, we can use the map function simply\n",
    "\n",
    "arr = list(map(lambda num: num**2, [x for x in range(1, 11)])) \n",
    "print(arr)\n",
    "\n",
    "# can we map multiple iterable?\n",
    "number1 = [1,2,3,4,5]\n",
    "number2 = [3,4,5,6,7]\n",
    "\n",
    "added_numbers = map(lambda x,y: x+y , number1,number2)\n",
    "print(list(added_numbers))\n",
    "\n",
    "#  map() to convert the list of number strings to integer\n",
    "str_num = [\"1\",\"2\",\"3\",\"4\",\"5\"]\n",
    "\n",
    "integ = list(map(lambda x: int(x), str_num))\n",
    "print(integ)\n",
    "\n",
    "# eg: \n",
    "words = ['apple','orange','banana','grape','pomegranate']\n",
    "upper_words = list(map(str.upper, words))\n",
    "print(upper_words)\n",
    "\n",
    "def getName(person):\n",
    "  return person[\"name\"]\n",
    "\n",
    "people = [{\"name\":\"Krish\",\"age\":32},\n",
    "          {\"name\":\"Jack\",\"age\":33},\n",
    "          {\"name\":\"George\",\"age\":23},\n",
    "          {\"name\":\"Athista\",\"age\":22}]\n",
    "\n",
    "names_list = list(map(getName,people))\n",
    "print(names_list)"
   ]
  },
  {
   "cell_type": "markdown",
   "metadata": {},
   "source": [
    "#### Conclusion for map():\n",
    "The map() function is a powerful tool for applying transformations to iterables data structures. It can be used with regular function, lambda function and even multiple iterables, providing a versatile approach to data processing in python. By understanding and utilizing map(), we can write more efficient and readable code. "
   ]
  },
  {
   "cell_type": "markdown",
   "metadata": {},
   "source": [
    "### Filter function filter():\n",
    "- This filter() function constructs an iterator from the elements of an iterable for which a function return true. It is used to filter out items from a list (or any other iterable) based on a condition. "
   ]
  },
  {
   "cell_type": "code",
   "execution_count": null,
   "metadata": {},
   "outputs": [
    {
     "ename": "",
     "evalue": "",
     "output_type": "error",
     "traceback": [
      "\u001b[1;31mThe Kernel crashed while executing code in the current cell or a previous cell. \n",
      "\u001b[1;31mPlease review the code in the cell(s) to identify a possible cause of the failure. \n",
      "\u001b[1;31mClick <a href='https://aka.ms/vscodeJupyterKernelCrash'>here</a> for more info. \n",
      "\u001b[1;31mView Jupyter <a href='command:jupyter.viewOutput'>log</a> for further details."
     ]
    }
   ],
   "source": [
    "# filter() to filter the elements in the list based on the condition \n",
    "def even(num):\n",
    "  return num%2==0\n",
    "\n",
    "print(even(12)) # it return true)\n",
    "\n",
    "lst = [1,2,3,4,5,6,7,8,9,10]\n",
    "\n",
    "even_num = list(filter(lambda x: x&1==0, lst))\n",
    "even_num1 = list(filter(even, lst))\n",
    "odd_num = list(filter(lambda x: x&1==1, lst))\n",
    "greater_5 = list(filter(lambda x: x>5, lst))\n",
    "print(even_num)\n",
    "print(even_num1)\n",
    "print(odd_num)\n",
    "print(greater_5)\n",
    "\n",
    "# lets filter with multiple condition \n",
    "numbers = [1,2,3,4,5,6,7,8,9,10,11,12,13]\n",
    "even_and_greater_5 = list(filter(lambda x: (x>5) & (x&1==0), numbers))\n",
    "print(even_and_greater_5)\n",
    "\n",
    "# we can apply the filter on the list of dictionary as well:\n",
    "\n",
    "people = [{\"name\":\"Krish\",\"age\":32},\n",
    "          {\"name\":\"Jack\",\"age\":33},\n",
    "          {\"name\":\"George\",\"age\":23},\n",
    "          {\"name\":\"Athista\",\"age\":22}]\n",
    "\n",
    "def age_greater_than_25(person):\n",
    "  return person['age']>25\n",
    "\n",
    "older_person = list(filter(age_greater_than_25, people))\n",
    "print(older_person)"
   ]
  },
  {
   "cell_type": "markdown",
   "metadata": {},
   "source": [
    "#### Conclusion: \n",
    "The filter funtion is powerful tool for creating iterators that filter items out of an iterable based on a fucntion. It is commonly used for data cleaning, filtering objects and removing unwanted elements from lists. By mastering filter(), we can write more concise and efficient code for processing and manipulating collections in python."
   ]
  },
  {
   "cell_type": "code",
   "execution_count": null,
   "metadata": {},
   "outputs": [],
   "source": []
  }
 ],
 "metadata": {
  "kernelspec": {
   "display_name": "Python 3",
   "language": "python",
   "name": "python3"
  },
  "language_info": {
   "codemirror_mode": {
    "name": "ipython",
    "version": 3
   },
   "file_extension": ".py",
   "mimetype": "text/x-python",
   "name": "python",
   "nbconvert_exporter": "python",
   "pygments_lexer": "ipython3",
   "version": "3.12.0"
  }
 },
 "nbformat": 4,
 "nbformat_minor": 2
}
